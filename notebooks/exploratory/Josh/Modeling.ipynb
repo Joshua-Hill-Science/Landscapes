{
 "cells": [
  {
   "cell_type": "markdown",
   "id": "e184831f-3262-4a9e-b168-c8526336a0f1",
   "metadata": {},
   "source": [
    "# Image Classification!"
   ]
  },
  {
   "cell_type": "markdown",
   "id": "daa93c9d-8125-461f-aa7e-e80285b290ec",
   "metadata": {},
   "source": [
    "## Imports"
   ]
  },
  {
   "cell_type": "code",
   "execution_count": 3,
   "id": "e4c55171-fa22-487d-b514-51a025bfafd0",
   "metadata": {
    "execution": {
     "iopub.execute_input": "2021-08-10T14:12:28.413603Z",
     "iopub.status.busy": "2021-08-10T14:12:28.413603Z",
     "iopub.status.idle": "2021-08-10T14:14:06.344327Z",
     "shell.execute_reply": "2021-08-10T14:14:06.343585Z",
     "shell.execute_reply.started": "2021-08-10T14:12:28.413603Z"
    },
    "tags": []
   },
   "outputs": [],
   "source": [
    "import numpy as np\n",
    "import os\n",
    "# from sklearn.metrics import confusion_matrix\n",
    "import seaborn as sn; sn.set(font_scale=1.4)\n",
    "from sklearn.utils import shuffle\n",
    "import matplotlib.pyplot as plt\n",
    "import cv2\n",
    "import tensorflow as tf\n",
    "from tqdm import tqdm\n",
    "from tensorflow.keras.preprocessing.image import array_to_img\n",
    "from sklearn.cluster import MiniBatchKMeans\n",
    "import pandas as pd"
   ]
  },
  {
   "cell_type": "markdown",
   "id": "beda8865-971d-491a-8369-46c38c497eb7",
   "metadata": {},
   "source": [
    "## Grabbing Class labels."
   ]
  },
  {
   "cell_type": "code",
   "execution_count": 8,
   "id": "6ea361df-8061-4255-8485-b4c358981188",
   "metadata": {
    "execution": {
     "iopub.execute_input": "2021-08-09T17:48:17.460777Z",
     "iopub.status.busy": "2021-08-09T17:48:17.459751Z",
     "iopub.status.idle": "2021-08-09T17:48:18.525681Z",
     "shell.execute_reply": "2021-08-09T17:48:18.525681Z",
     "shell.execute_reply.started": "2021-08-09T17:48:17.460777Z"
    }
   },
   "outputs": [],
   "source": [
    "test_labels=np.load(\"test_labels.npz\")['args']"
   ]
  },
  {
   "cell_type": "code",
   "execution_count": 9,
   "id": "569496b4-a0e8-4729-ada7-494e2802804d",
   "metadata": {
    "execution": {
     "iopub.execute_input": "2021-08-09T17:48:18.525681Z",
     "iopub.status.busy": "2021-08-09T17:48:18.525681Z",
     "iopub.status.idle": "2021-08-09T17:48:18.797693Z",
     "shell.execute_reply": "2021-08-09T17:48:18.797693Z",
     "shell.execute_reply.started": "2021-08-09T17:48:18.525681Z"
    }
   },
   "outputs": [],
   "source": [
    "train_labels=np.load(\"train_labels.npz\")['args']"
   ]
  },
  {
   "cell_type": "code",
   "execution_count": 10,
   "id": "e47ffe82-7d78-4864-9cba-6775a221e171",
   "metadata": {
    "execution": {
     "iopub.execute_input": "2021-08-09T17:48:23.489753Z",
     "iopub.status.busy": "2021-08-09T17:48:23.489753Z",
     "iopub.status.idle": "2021-08-09T17:48:39.639002Z",
     "shell.execute_reply": "2021-08-09T17:48:39.637024Z",
     "shell.execute_reply.started": "2021-08-09T17:48:23.489753Z"
    },
    "tags": []
   },
   "outputs": [],
   "source": [
    "clusted_images_test=np.load(\"clusted_images_test.npz\")['args']"
   ]
  },
  {
   "cell_type": "code",
   "execution_count": 11,
   "id": "801fe3b8-0f3b-46bd-99f0-a7895de3b04b",
   "metadata": {
    "execution": {
     "iopub.execute_input": "2021-08-09T17:48:39.644987Z",
     "iopub.status.busy": "2021-08-09T17:48:39.643988Z",
     "iopub.status.idle": "2021-08-09T17:51:27.027091Z",
     "shell.execute_reply": "2021-08-09T17:51:27.027091Z",
     "shell.execute_reply.started": "2021-08-09T17:48:39.644987Z"
    },
    "tags": []
   },
   "outputs": [],
   "source": [
    "clusted_images_train=np.load(\"clusted_images_train.npz\")['args']"
   ]
  },
  {
   "cell_type": "code",
   "execution_count": 4,
   "id": "dff7756d-1766-43cb-9ae1-73ba406c1a77",
   "metadata": {
    "execution": {
     "iopub.execute_input": "2021-08-10T14:15:21.495298Z",
     "iopub.status.busy": "2021-08-10T14:15:21.495298Z",
     "iopub.status.idle": "2021-08-10T14:15:21.541175Z",
     "shell.execute_reply": "2021-08-10T14:15:21.539182Z",
     "shell.execute_reply.started": "2021-08-10T14:15:21.495298Z"
    },
    "tags": []
   },
   "outputs": [],
   "source": [
    "def graph_before_and_after(data_pre, data_after, Image_num):\n",
    "    fig, ax = plt.subplots(1,2,figsize=(16, 6),\n",
    "                           subplot_kw=dict(xticks=[], yticks=[]))\n",
    "    fig.subplots_adjust(wspace=0.05)\n",
    "    ax[0].imshow(data_pre[Image_num].astype(int))\n",
    "    ax[0].set_title('Original Image', size=16)\n",
    "    ax[1].imshow(data_after[Image_num])\n",
    "    ax[1].set_title('16-color Image', size=16);"
   ]
  },
  {
   "cell_type": "code",
   "execution_count": 5,
   "id": "c212def5-473c-4254-bdb2-a7869d0ef871",
   "metadata": {
    "execution": {
     "iopub.execute_input": "2021-08-10T14:15:21.729938Z",
     "iopub.status.busy": "2021-08-10T14:15:21.728968Z",
     "iopub.status.idle": "2021-08-10T14:15:21.745895Z",
     "shell.execute_reply": "2021-08-10T14:15:21.744898Z",
     "shell.execute_reply.started": "2021-08-10T14:15:21.729938Z"
    },
    "tags": []
   },
   "outputs": [],
   "source": [
    "def graph_one(data, Image_num):\n",
    "    fig, ax = plt.subplots(figsize=(16, 6),\n",
    "                           subplot_kw=dict(xticks=[], yticks=[]))\n",
    "    ax.imshow(data[Image_num])\n",
    "    ax.set_title('16-color Image', size=16);"
   ]
  },
  {
   "cell_type": "code",
   "execution_count": 6,
   "id": "41246399-0147-4ca2-98b6-a3f9e07b8544",
   "metadata": {
    "execution": {
     "iopub.execute_input": "2021-08-10T14:15:22.031532Z",
     "iopub.status.busy": "2021-08-10T14:15:22.031532Z",
     "iopub.status.idle": "2021-08-10T14:15:22.808024Z",
     "shell.execute_reply": "2021-08-10T14:15:22.805030Z",
     "shell.execute_reply.started": "2021-08-10T14:15:22.031532Z"
    },
    "tags": []
   },
   "outputs": [
    {
     "ename": "NameError",
     "evalue": "name 'clusted_images_train' is not defined",
     "output_type": "error",
     "traceback": [
      "\u001b[1;31m---------------------------------------------------------------------------\u001b[0m",
      "\u001b[1;31mNameError\u001b[0m                                 Traceback (most recent call last)",
      "\u001b[1;32m<ipython-input-6-ec77ab90c4f6>\u001b[0m in \u001b[0;36m<module>\u001b[1;34m\u001b[0m\n\u001b[1;32m----> 1\u001b[1;33m \u001b[0mgraph_one\u001b[0m\u001b[1;33m(\u001b[0m\u001b[0mclusted_images_train\u001b[0m\u001b[1;33m,\u001b[0m \u001b[1;36m10000\u001b[0m\u001b[1;33m)\u001b[0m\u001b[1;33m\u001b[0m\u001b[1;33m\u001b[0m\u001b[0m\n\u001b[0m",
      "\u001b[1;31mNameError\u001b[0m: name 'clusted_images_train' is not defined"
     ]
    }
   ],
   "source": [
    "graph_one(clusted_images_train, 10000)"
   ]
  },
  {
   "cell_type": "markdown",
   "id": "41be724d-cfe2-4bec-a4e3-11ff86abf5b8",
   "metadata": {},
   "source": [
    "## Warren's Baseline Model code"
   ]
  },
  {
   "cell_type": "code",
   "execution_count": 14,
   "id": "03ec9855-e206-4b74-ab3b-01f608988812",
   "metadata": {
    "execution": {
     "iopub.execute_input": "2021-08-09T17:54:17.019825Z",
     "iopub.status.busy": "2021-08-09T17:54:17.018782Z",
     "iopub.status.idle": "2021-08-09T17:54:17.251159Z",
     "shell.execute_reply": "2021-08-09T17:54:17.249684Z",
     "shell.execute_reply.started": "2021-08-09T17:54:17.019825Z"
    },
    "tags": []
   },
   "outputs": [],
   "source": [
    "from tensorflow.keras import models, layers"
   ]
  },
  {
   "cell_type": "code",
   "execution_count": 30,
   "id": "2a0f018f-0449-4eba-8393-2656e2b7e9c9",
   "metadata": {
    "execution": {
     "iopub.execute_input": "2021-08-09T14:12:19.392123Z",
     "iopub.status.busy": "2021-08-09T14:12:19.392123Z",
     "iopub.status.idle": "2021-08-09T14:12:19.400074Z",
     "shell.execute_reply": "2021-08-09T14:12:19.399083Z",
     "shell.execute_reply.started": "2021-08-09T14:12:19.392123Z"
    },
    "tags": []
   },
   "outputs": [],
   "source": [
    "model_bl = models.Sequential()"
   ]
  },
  {
   "cell_type": "code",
   "execution_count": 31,
   "id": "f81758aa-8cdf-4e93-9598-bbeccc083ee4",
   "metadata": {
    "execution": {
     "iopub.execute_input": "2021-08-09T14:12:19.535171Z",
     "iopub.status.busy": "2021-08-09T14:12:19.534182Z",
     "iopub.status.idle": "2021-08-09T14:12:20.866564Z",
     "shell.execute_reply": "2021-08-09T14:12:20.865499Z",
     "shell.execute_reply.started": "2021-08-09T14:12:19.535171Z"
    }
   },
   "outputs": [],
   "source": [
    "model_bl.add(layers.Conv2D(64,(3,3),activation='relu',input_shape=(150, 150, 3)))\n",
    "model_bl.add(layers.MaxPooling2D(2,2))\n",
    "model_bl.add(layers.Flatten())\n",
    "model_bl.add(layers.Dense(128,activation='relu'))\n",
    "model_bl.add(layers.Dense(6,activation='softmax'))"
   ]
  },
  {
   "cell_type": "code",
   "execution_count": 35,
   "id": "8ddeb35c-a7d6-4b28-9ef3-de251f7dfe17",
   "metadata": {
    "execution": {
     "iopub.execute_input": "2021-08-09T14:27:41.667729Z",
     "iopub.status.busy": "2021-08-09T14:27:41.667729Z",
     "iopub.status.idle": "2021-08-09T14:27:44.757745Z",
     "shell.execute_reply": "2021-08-09T14:27:44.757745Z",
     "shell.execute_reply.started": "2021-08-09T14:27:41.667729Z"
    }
   },
   "outputs": [],
   "source": [
    "model_bl.compile(optimizer='adam',loss='sparse_categorical_crossentropy',metrics=['acc'])"
   ]
  },
  {
   "cell_type": "code",
   "execution_count": 37,
   "id": "4966520b-eab5-4731-87d2-147471a4d3c8",
   "metadata": {
    "execution": {
     "iopub.execute_input": "2021-08-09T14:32:04.982895Z",
     "iopub.status.busy": "2021-08-09T14:32:04.981871Z",
     "iopub.status.idle": "2021-08-09T15:48:35.505322Z",
     "shell.execute_reply": "2021-08-09T15:48:35.116548Z",
     "shell.execute_reply.started": "2021-08-09T14:32:04.982895Z"
    },
    "tags": []
   },
   "outputs": [
    {
     "name": "stdout",
     "output_type": "stream",
     "text": [
      "Epoch 1/10\n",
      "878/878 [==============================] - 538s 612ms/step - loss: 1.1511 - acc: 0.5475 - val_loss: 1.0474 - val_acc: 0.5983\n",
      "Epoch 2/10\n",
      "878/878 [==============================] - 457s 521ms/step - loss: 0.7782 - acc: 0.7152 - val_loss: 0.9062 - val_acc: 0.6530\n",
      "Epoch 3/10\n",
      "878/878 [==============================] - 464s 529ms/step - loss: 0.4853 - acc: 0.8329 - val_loss: 0.9023 - val_acc: 0.6920\n",
      "Epoch 4/10\n",
      "878/878 [==============================] - 460s 524ms/step - loss: 0.2579 - acc: 0.9190 - val_loss: 1.1220 - val_acc: 0.6773\n",
      "Epoch 5/10\n",
      "878/878 [==============================] - 455s 518ms/step - loss: 0.1502 - acc: 0.9560 - val_loss: 1.1921 - val_acc: 0.6843\n",
      "Epoch 6/10\n",
      "878/878 [==============================] - 441s 503ms/step - loss: 0.1058 - acc: 0.9702 - val_loss: 1.3628 - val_acc: 0.6723\n",
      "Epoch 7/10\n",
      "878/878 [==============================] - 430s 490ms/step - loss: 0.0818 - acc: 0.9773 - val_loss: 1.5400 - val_acc: 0.6623\n",
      "Epoch 8/10\n",
      "878/878 [==============================] - 467s 532ms/step - loss: 0.0777 - acc: 0.9796 - val_loss: 1.7160 - val_acc: 0.6803\n",
      "Epoch 9/10\n",
      "878/878 [==============================] - 431s 491ms/step - loss: 0.0688 - acc: 0.9814 - val_loss: 1.8766 - val_acc: 0.6427\n",
      "Epoch 10/10\n",
      "878/878 [==============================] - 431s 490ms/step - loss: 0.0637 - acc: 0.9841 - val_loss: 2.2396 - val_acc: 0.6320\n"
     ]
    }
   ],
   "source": [
    "history_bl = model_bl.fit(clusted_images_train,train_labels,\n",
    "                    batch_size=16,\n",
    "                    epochs=10,\n",
    "                    validation_data=(clusted_images_test,test_labels),\n",
    "                    )"
   ]
  },
  {
   "cell_type": "code",
   "execution_count": 38,
   "id": "98452ce8-b3ef-493b-a97b-e800b35b7fd3",
   "metadata": {
    "execution": {
     "iopub.execute_input": "2021-08-09T15:55:43.287335Z",
     "iopub.status.busy": "2021-08-09T15:55:43.260720Z",
     "iopub.status.idle": "2021-08-09T15:55:44.467175Z",
     "shell.execute_reply": "2021-08-09T15:55:44.466172Z",
     "shell.execute_reply.started": "2021-08-09T15:55:43.260720Z"
    }
   },
   "outputs": [
    {
     "data": {
      "text/plain": [
       "dict_keys(['loss', 'acc', 'val_loss', 'val_acc'])"
      ]
     },
     "execution_count": 38,
     "metadata": {},
     "output_type": "execute_result"
    }
   ],
   "source": [
    "history_bl.history.keys()"
   ]
  },
  {
   "cell_type": "code",
   "execution_count": 22,
   "id": "f4b63603-a22d-412f-9f1c-7b1264ed01a7",
   "metadata": {
    "execution": {
     "iopub.execute_input": "2021-08-09T21:03:25.529731Z",
     "iopub.status.busy": "2021-08-09T21:03:25.528724Z",
     "iopub.status.idle": "2021-08-09T21:03:26.548161Z",
     "shell.execute_reply": "2021-08-09T21:03:26.547159Z",
     "shell.execute_reply.started": "2021-08-09T21:03:25.529731Z"
    },
    "tags": []
   },
   "outputs": [],
   "source": [
    "def history_graph(history, save_title):\n",
    "    fig, (ax1, ax2) = plt.subplots(1,2,figsize=(20, 8))\n",
    "    metrics_loss = ['loss','val_loss']\n",
    "    for metric_loss in metrics_loss:\n",
    "        ax1.plot(history.history[metric_loss], label=metric_loss)\n",
    "        ax1.legend()\n",
    "        ax1.set_title(f\"Model's Loss per Epoch\")\n",
    "    metrics_acc = ['acc','val_acc']\n",
    "    for metric_acc in metrics_acc:\n",
    "        ax2.plot(history.history[metric_acc], label=metric_acc)\n",
    "        ax2.legend()\n",
    "        ax2.set_title(f\"Model's Accuracy per Epoch\")\n",
    "    plt.tight_layout()\n",
    "    fig.savefig(f'{save_title}.png', dpi=300)"
   ]
  },
  {
   "cell_type": "code",
   "execution_count": 23,
   "id": "cdc34a0c-6c3b-45d8-816c-27bb9a71dbdd",
   "metadata": {
    "execution": {
     "iopub.execute_input": "2021-08-09T21:03:40.057389Z",
     "iopub.status.busy": "2021-08-09T21:03:40.057389Z",
     "iopub.status.idle": "2021-08-09T21:03:53.692586Z",
     "shell.execute_reply": "2021-08-09T21:03:53.691782Z",
     "shell.execute_reply.started": "2021-08-09T21:03:40.057389Z"
    },
    "tags": []
   },
   "outputs": [
    {
     "ename": "NameError",
     "evalue": "name 'history_bl' is not defined",
     "output_type": "error",
     "traceback": [
      "\u001b[1;31m---------------------------------------------------------------------------\u001b[0m",
      "\u001b[1;31mNameError\u001b[0m                                 Traceback (most recent call last)",
      "\u001b[1;32m<ipython-input-23-e3b7de37d8bc>\u001b[0m in \u001b[0;36m<module>\u001b[1;34m\u001b[0m\n\u001b[1;32m----> 1\u001b[1;33m \u001b[0mhistory_graph\u001b[0m\u001b[1;33m(\u001b[0m\u001b[0mhistory_bl\u001b[0m\u001b[1;33m,\u001b[0m \u001b[0mBaseline_Model\u001b[0m\u001b[1;33m)\u001b[0m\u001b[1;33m\u001b[0m\u001b[1;33m\u001b[0m\u001b[0m\n\u001b[0m",
      "\u001b[1;31mNameError\u001b[0m: name 'history_bl' is not defined"
     ]
    }
   ],
   "source": [
    "history_graph(history_bl, Baseline_Model)"
   ]
  },
  {
   "cell_type": "markdown",
   "id": "8034f24b-a167-406a-9401-efaacd403fbf",
   "metadata": {},
   "source": [
    "Terrible over fitting, going to Regularize next."
   ]
  },
  {
   "cell_type": "markdown",
   "id": "338a77be-7e38-464a-9255-0ed1515ae3ff",
   "metadata": {
    "execution": {
     "iopub.execute_input": "2021-08-09T16:21:44.895511Z",
     "iopub.status.busy": "2021-08-09T16:21:44.895511Z",
     "iopub.status.idle": "2021-08-09T16:21:44.904658Z",
     "shell.execute_reply": "2021-08-09T16:21:44.904658Z",
     "shell.execute_reply.started": "2021-08-09T16:21:44.895511Z"
    }
   },
   "source": [
    "### Regularization Model"
   ]
  },
  {
   "cell_type": "code",
   "execution_count": 16,
   "id": "9e1800cf-0d2d-410a-945f-0d099cd2c479",
   "metadata": {
    "execution": {
     "iopub.execute_input": "2021-08-09T17:54:25.948106Z",
     "iopub.status.busy": "2021-08-09T17:54:25.947108Z",
     "iopub.status.idle": "2021-08-09T17:54:26.008794Z",
     "shell.execute_reply": "2021-08-09T17:54:26.006777Z",
     "shell.execute_reply.started": "2021-08-09T17:54:25.948106Z"
    },
    "tags": []
   },
   "outputs": [],
   "source": [
    "from tensorflow.keras.callbacks import ModelCheckpoint"
   ]
  },
  {
   "cell_type": "code",
   "execution_count": 17,
   "id": "5481be70-a4fc-4e8c-9209-61bfbb48ce1d",
   "metadata": {
    "execution": {
     "iopub.execute_input": "2021-08-09T17:54:27.177640Z",
     "iopub.status.busy": "2021-08-09T17:54:27.177640Z",
     "iopub.status.idle": "2021-08-09T17:54:44.989733Z",
     "shell.execute_reply": "2021-08-09T17:54:44.988733Z",
     "shell.execute_reply.started": "2021-08-09T17:54:27.177640Z"
    },
    "tags": []
   },
   "outputs": [],
   "source": [
    "model_L2Reg = models.Sequential()"
   ]
  },
  {
   "cell_type": "code",
   "execution_count": 18,
   "id": "899e713d-580c-4fe1-bf11-d045d873011a",
   "metadata": {
    "execution": {
     "iopub.execute_input": "2021-08-09T17:54:44.992736Z",
     "iopub.status.busy": "2021-08-09T17:54:44.991756Z",
     "iopub.status.idle": "2021-08-09T17:54:48.965317Z",
     "shell.execute_reply": "2021-08-09T17:54:48.964316Z",
     "shell.execute_reply.started": "2021-08-09T17:54:44.991756Z"
    },
    "tags": []
   },
   "outputs": [],
   "source": [
    "model_L2Reg.add(layers.Conv2D(64,(3,3),activation='relu',input_shape=(150, 150, 3), kernel_regularizer=tf.keras.regularizers.l2(l2=0.01)))\n",
    "model_L2Reg.add(layers.MaxPooling2D(2,2))\n",
    "model_L2Reg.add(layers.Flatten())\n",
    "model_L2Reg.add(layers.Dense(128,activation='relu', kernel_regularizer=tf.keras.regularizers.l2(l2=0.01)))\n",
    "model_L2Reg.add(layers.Dense(24, activation='relu', kernel_regularizer=tf.keras.regularizers.l2(l2=0.01)))\n",
    "model_L2Reg.add(layers.Dense(24, activation='relu', kernel_regularizer=tf.keras.regularizers.l2(l2=0.01)))\n",
    "model_L2Reg.add(layers.Dense(6,activation='softmax'))"
   ]
  },
  {
   "cell_type": "code",
   "execution_count": 19,
   "id": "388235f9-b870-4d5a-a4af-bd99eb6d30db",
   "metadata": {
    "execution": {
     "iopub.execute_input": "2021-08-09T17:54:48.967310Z",
     "iopub.status.busy": "2021-08-09T17:54:48.967310Z",
     "iopub.status.idle": "2021-08-09T17:54:49.910067Z",
     "shell.execute_reply": "2021-08-09T17:54:49.909061Z",
     "shell.execute_reply.started": "2021-08-09T17:54:48.967310Z"
    },
    "tags": []
   },
   "outputs": [],
   "source": [
    "model_L2Reg.compile(optimizer='adam',loss='sparse_categorical_crossentropy',metrics=['acc'])\n",
    "#added checkpoints\n",
    "checkpoint = tf.keras.callbacks.ModelCheckpoint(\"Regularization_model.h5\", save_best_only=True)"
   ]
  },
  {
   "cell_type": "code",
   "execution_count": 20,
   "id": "98482af6-ce5d-4b33-9615-252c15f78e3f",
   "metadata": {
    "execution": {
     "iopub.execute_input": "2021-08-09T17:54:49.912052Z",
     "iopub.status.busy": "2021-08-09T17:54:49.911058Z",
     "iopub.status.idle": "2021-08-09T20:55:41.917575Z",
     "shell.execute_reply": "2021-08-09T20:55:41.631312Z",
     "shell.execute_reply.started": "2021-08-09T17:54:49.912052Z"
    },
    "tags": []
   },
   "outputs": [
    {
     "name": "stdout",
     "output_type": "stream",
     "text": [
      "Epoch 1/15\n",
      "878/878 [==============================] - 645s 735ms/step - loss: 2.0010 - acc: 0.4969 - val_loss: 1.5403 - val_acc: 0.5730\n",
      "Epoch 2/15\n",
      "878/878 [==============================] - 636s 724ms/step - loss: 1.4855 - acc: 0.5771 - val_loss: 1.7811 - val_acc: 0.4770\n",
      "Epoch 3/15\n",
      "878/878 [==============================] - 633s 721ms/step - loss: 1.3819 - acc: 0.6029 - val_loss: 1.2992 - val_acc: 0.6217\n",
      "Epoch 4/15\n",
      "878/878 [==============================] - 636s 724ms/step - loss: 1.3269 - acc: 0.6119 - val_loss: 1.2722 - val_acc: 0.6170\n",
      "Epoch 5/15\n",
      "878/878 [==============================] - 803s 915ms/step - loss: 1.2735 - acc: 0.6189 - val_loss: 1.2812 - val_acc: 0.6127\n",
      "Epoch 6/15\n",
      "878/878 [==============================] - 897s 1s/step - loss: 1.2490 - acc: 0.6286 - val_loss: 1.2392 - val_acc: 0.6143\n",
      "Epoch 7/15\n",
      "878/878 [==============================] - 729s 831ms/step - loss: 1.2294 - acc: 0.6355 - val_loss: 1.4523 - val_acc: 0.5530\n",
      "Epoch 8/15\n",
      "878/878 [==============================] - 729s 830ms/step - loss: 1.2196 - acc: 0.6367 - val_loss: 1.3164 - val_acc: 0.5710\n",
      "Epoch 9/15\n",
      "878/878 [==============================] - 714s 813ms/step - loss: 1.1942 - acc: 0.6470 - val_loss: 1.2323 - val_acc: 0.6230\n",
      "Epoch 10/15\n",
      "878/878 [==============================] - 676s 770ms/step - loss: 1.1840 - acc: 0.6517 - val_loss: 1.2793 - val_acc: 0.6260\n",
      "Epoch 11/15\n",
      "878/878 [==============================] - 729s 831ms/step - loss: 1.1670 - acc: 0.6624 - val_loss: 1.1011 - val_acc: 0.6963\n",
      "Epoch 12/15\n",
      "878/878 [==============================] - 770s 877ms/step - loss: 1.1474 - acc: 0.6643 - val_loss: 1.1619 - val_acc: 0.6527\n",
      "Epoch 13/15\n",
      "878/878 [==============================] - 722s 822ms/step - loss: 1.1454 - acc: 0.6655 - val_loss: 1.0934 - val_acc: 0.6873\n",
      "Epoch 14/15\n",
      "878/878 [==============================] - 737s 839ms/step - loss: 1.1202 - acc: 0.6793 - val_loss: 1.1579 - val_acc: 0.6633\n",
      "Epoch 15/15\n",
      "878/878 [==============================] - 734s 836ms/step - loss: 1.1291 - acc: 0.6754 - val_loss: 1.1311 - val_acc: 0.6737\n"
     ]
    }
   ],
   "source": [
    "history_L2Reg = model_L2Reg.fit(clusted_images_train,train_labels,\n",
    "                    batch_size=16,\n",
    "                    epochs=15,\n",
    "                    validation_data=(clusted_images_test,test_labels))"
   ]
  },
  {
   "cell_type": "code",
   "execution_count": 1,
   "id": "24535419-d020-496e-9228-7fd4ac118138",
   "metadata": {
    "execution": {
     "iopub.execute_input": "2021-08-10T14:12:02.854555Z",
     "iopub.status.busy": "2021-08-10T14:12:02.854555Z",
     "iopub.status.idle": "2021-08-10T14:12:03.197455Z",
     "shell.execute_reply": "2021-08-10T14:12:03.196457Z",
     "shell.execute_reply.started": "2021-08-10T14:12:02.854555Z"
    },
    "tags": []
   },
   "outputs": [
    {
     "ename": "NameError",
     "evalue": "name 'history_graph' is not defined",
     "output_type": "error",
     "traceback": [
      "\u001b[1;31m---------------------------------------------------------------------------\u001b[0m",
      "\u001b[1;31mNameError\u001b[0m                                 Traceback (most recent call last)",
      "\u001b[1;32m<ipython-input-1-7e08b4a279c5>\u001b[0m in \u001b[0;36m<module>\u001b[1;34m\u001b[0m\n\u001b[1;32m----> 1\u001b[1;33m \u001b[0mhistory_graph\u001b[0m\u001b[1;33m(\u001b[0m\u001b[0mhistory_L2Reg\u001b[0m\u001b[1;33m,\u001b[0m \u001b[1;34m\"L2_Regularization_Model\"\u001b[0m\u001b[1;33m)\u001b[0m\u001b[1;33m\u001b[0m\u001b[1;33m\u001b[0m\u001b[0m\n\u001b[0m",
      "\u001b[1;31mNameError\u001b[0m: name 'history_graph' is not defined"
     ]
    }
   ],
   "source": [
    "history_graph(history_L2Reg, \"L2_Regularization_Model\")"
   ]
  },
  {
   "cell_type": "code",
   "execution_count": 2,
   "id": "3a0a92a0-1ded-499e-b145-ccc38ea9a386",
   "metadata": {
    "execution": {
     "iopub.execute_input": "2021-08-10T14:12:14.330318Z",
     "iopub.status.busy": "2021-08-10T14:12:14.330318Z",
     "iopub.status.idle": "2021-08-10T14:12:14.345278Z",
     "shell.execute_reply": "2021-08-10T14:12:14.344280Z",
     "shell.execute_reply.started": "2021-08-10T14:12:14.330318Z"
    }
   },
   "outputs": [
    {
     "ename": "NameError",
     "evalue": "name 'history_L2Reg' is not defined",
     "output_type": "error",
     "traceback": [
      "\u001b[1;31m---------------------------------------------------------------------------\u001b[0m",
      "\u001b[1;31mNameError\u001b[0m                                 Traceback (most recent call last)",
      "\u001b[1;32m<ipython-input-2-fd8b65e8483c>\u001b[0m in \u001b[0;36m<module>\u001b[1;34m\u001b[0m\n\u001b[1;32m----> 1\u001b[1;33m \u001b[0mhistory_L2Reg\u001b[0m\u001b[1;33m.\u001b[0m\u001b[0mhistory\u001b[0m\u001b[1;33m\u001b[0m\u001b[1;33m\u001b[0m\u001b[0m\n\u001b[0m",
      "\u001b[1;31mNameError\u001b[0m: name 'history_L2Reg' is not defined"
     ]
    }
   ],
   "source": [
    "history_L2Reg.history"
   ]
  },
  {
   "cell_type": "code",
   "execution_count": null,
   "id": "949f48ea-1f48-420f-9f13-52b6fec3854b",
   "metadata": {},
   "outputs": [],
   "source": [
    "history_L2Reg"
   ]
  }
 ],
 "metadata": {
  "kernelspec": {
   "display_name": "learn-env",
   "language": "python",
   "name": "learn-env"
  },
  "language_info": {
   "codemirror_mode": {
    "name": "ipython",
    "version": 3
   },
   "file_extension": ".py",
   "mimetype": "text/x-python",
   "name": "python",
   "nbconvert_exporter": "python",
   "pygments_lexer": "ipython3",
   "version": "3.8.5"
  }
 },
 "nbformat": 4,
 "nbformat_minor": 5
}
