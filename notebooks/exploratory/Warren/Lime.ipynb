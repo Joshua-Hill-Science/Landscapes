{
 "cells": [
  {
   "cell_type": "code",
   "execution_count": null,
   "metadata": {},
   "outputs": [],
   "source": []
  },
  {
   "cell_type": "code",
   "execution_count": 12,
   "metadata": {},
   "outputs": [],
   "source": [
    "import numpy as np\n",
    "import os\n",
    "from sklearn.metrics import confusion_matrix\n",
    "import seaborn as sn\n",
    "from sklearn.utils import shuffle           \n",
    "import matplotlib.pyplot as plt         \n",
    "import cv2                                 \n",
    "import tensorflow as tf                \n",
    "from tqdm import tqdm\n",
    "import pandas as pd\n",
    "from tensorflow.keras.callbacks import ModelCheckpoint\n",
    "%matplotlib inline\n",
    "from tensorflow.keras import models, layers, regularizers"
   ]
  },
  {
   "cell_type": "code",
   "execution_count": 2,
   "metadata": {},
   "outputs": [],
   "source": [
    "class_names = ['mountain', 'street', 'glacier', 'buildings', 'sea', 'forest']\n",
    "class_names_label = {class_name:i for i, class_name in enumerate(class_names)}\n",
    "\n",
    "nb_classes = len(class_names)\n",
    "\n",
    "IMAGE_SIZE = (150, 150)\n",
    "\n"
   ]
  },
  {
   "cell_type": "code",
   "execution_count": 3,
   "metadata": {},
   "outputs": [],
   "source": [
    "def model_plots(history,name):\n",
    "    plt.style.use('ggplot')\n",
    "    \n",
    "    fig1, ax1 = plt.subplots(figsize=(6,6))\n",
    "    metrics = ['acc','val_acc']\n",
    "    for metric in metrics:\n",
    "        ax1 = plt.plot(history.history[metric], label=metric)\n",
    "    ax1 = plt.title(f'{name}-Accuracy')\n",
    "\n",
    "    ax1 = plt.legend()\n",
    "    ax1 = plt.tight_layout()\n",
    "    ax1 = plt.xlabel('Epochs')\n",
    "    ax1 = plt.ylabel('Accuracy')\n",
    "    fig1.savefig(f'Images/{name}-accuracy.jpg',bbox_inches='tight', dpi=150)\n",
    "    \n",
    "    fig2, ax2 = plt.subplots(figsize=(6,6))\n",
    "    metrics = ['loss','val_loss']\n",
    "    for metric in metrics:\n",
    "        ax2 = plt.plot(history.history[metric], label=metric)\n",
    "    ax2 = plt.title(f'{name}-Loss')\n",
    "\n",
    "    ax2 = plt.legend()\n",
    "    ax2 = plt.tight_layout()\n",
    "    ax2 = plt.xlabel('Epochs')\n",
    "    ax2 = plt.ylabel('Loss')\n",
    "    fig2.savefig(f'Images/{name}-loss.jpg',bbox_inches='tight', dpi=150)"
   ]
  },
  {
   "cell_type": "code",
   "execution_count": null,
   "metadata": {},
   "outputs": [],
   "source": []
  },
  {
   "cell_type": "code",
   "execution_count": 4,
   "metadata": {},
   "outputs": [],
   "source": [
    "\n",
    "def modeler(layers_list):\n",
    "    model = models.Sequential()\n",
    "    model.add(layers.Conv2D(128,(3,3),activation='relu',input_shape=(75, 75, 3)))\n",
    "\n",
    "    for layer in layers_list:\n",
    "        model.add(layer)\n",
    "    \n",
    "    model.add(layers.Flatten())\n",
    "    model.add(layers.Dense(128,activation='relu'))\n",
    "    model.add(layers.Dense(6,activation='softmax'))\n",
    "    \n",
    "    \n",
    " \n",
    "    return model"
   ]
  },
  {
   "cell_type": "code",
   "execution_count": 5,
   "metadata": {},
   "outputs": [],
   "source": [
    "def model_trainer(model,name,train_img,train_labels,test_img,test_labels,batch_size=16,epochs=5):\n",
    "    \n",
    "    model.compile(optimizer='adam',loss='sparse_categorical_crossentropy',metrics=['acc'])\n",
    "\n",
    "    \n",
    "    checkpoint = tf.keras.callbacks.ModelCheckpoint(f'../../../../Models/{name}_model.h5', save_best_only=True)\n",
    "    earlystop = tf.keras.callbacks.EarlyStopping(\n",
    "                                monitor='val_loss', # What to watch\n",
    "                                min_delta=0.1, # How much change to get\n",
    "                                patience=5 # No change after 5 epochs\n",
    "    )\n",
    "    history = model.fit(train_img,train_labels,\n",
    "                    batch_size=batch_size,\n",
    "                    epochs=epochs,\n",
    "                    validation_data=(test_img,test_labels),\n",
    "                    callbacks=[checkpoint,earlystop])\n",
    "    \n",
    "    return history"
   ]
  },
  {
   "cell_type": "code",
   "execution_count": 6,
   "metadata": {},
   "outputs": [],
   "source": [
    "#set image dims\n",
    "dim = (75,75)"
   ]
  },
  {
   "cell_type": "code",
   "execution_count": 7,
   "metadata": {},
   "outputs": [],
   "source": [
    "def load_data():\n",
    "    \"\"\"\n",
    "        Load the data:\n",
    "            - 14,034 images to train the network.\n",
    "            - 3,000 images to evaluate how accurately the network learned to classify images.\n",
    "    \"\"\"\n",
    "    \n",
    "    datasets = ['../../../../archive/seg_train/seg_train', '../../../../archive/seg_test/seg_test']\n",
    "    output = []\n",
    "    \n",
    "    # Iterate through training and test sets\n",
    "    for dataset in datasets:\n",
    "        \n",
    "        images = []\n",
    "        labels = []\n",
    "        \n",
    "        print(\"Loading {}\".format(dataset))\n",
    "        \n",
    "        # Iterate through each folder corresponding to a category\n",
    "        for folder in os.listdir(dataset):\n",
    "            label = class_names_label[folder]\n",
    "            \n",
    "            # Iterate through each image in our folder\n",
    "            for file in tqdm(os.listdir(os.path.join(dataset, folder))):\n",
    "                \n",
    "                # Get the path name of the image\n",
    "                img_path = os.path.join(os.path.join(dataset, folder), file)\n",
    "                \n",
    "                # Open and resize the img\n",
    "                image = cv2.imread(img_path)\n",
    "                image = cv2.cvtColor(image, cv2.COLOR_BGR2RGB)\n",
    "                image = cv2.resize(image, dim) \n",
    "                \n",
    "                # Append the image and its corresponding label to the output\n",
    "                images.append(image)\n",
    "                labels.append(label)\n",
    "                \n",
    "        images = np.array(images, dtype = 'float32')\n",
    "        labels = np.array(labels, dtype = 'int32')   \n",
    "        \n",
    "        output.append((images, labels))\n",
    "\n",
    "    return output"
   ]
  },
  {
   "cell_type": "code",
   "execution_count": 8,
   "metadata": {},
   "outputs": [
    {
     "name": "stderr",
     "output_type": "stream",
     "text": [
      "  8%|▊         | 165/2191 [00:00<00:01, 1634.66it/s]"
     ]
    },
    {
     "name": "stdout",
     "output_type": "stream",
     "text": [
      "Loading ../../../../archive/seg_train/seg_train\n"
     ]
    },
    {
     "name": "stderr",
     "output_type": "stream",
     "text": [
      "100%|██████████| 2191/2191 [00:01<00:00, 1532.34it/s]\n",
      "100%|██████████| 2271/2271 [00:01<00:00, 1234.78it/s]\n",
      "100%|██████████| 2404/2404 [00:01<00:00, 1227.87it/s]\n",
      "100%|██████████| 2512/2512 [00:02<00:00, 1132.33it/s]\n",
      "100%|██████████| 2274/2274 [00:02<00:00, 1025.23it/s]\n",
      "100%|██████████| 2382/2382 [00:02<00:00, 904.84it/s]\n",
      " 38%|███▊      | 164/437 [00:00<00:00, 1624.67it/s]"
     ]
    },
    {
     "name": "stdout",
     "output_type": "stream",
     "text": [
      "Loading ../../../../archive/seg_test/seg_test\n"
     ]
    },
    {
     "name": "stderr",
     "output_type": "stream",
     "text": [
      "100%|██████████| 437/437 [00:00<00:00, 1607.44it/s]\n",
      "100%|██████████| 474/474 [00:00<00:00, 1456.78it/s]\n",
      "100%|██████████| 553/553 [00:00<00:00, 1639.50it/s]\n",
      "100%|██████████| 525/525 [00:00<00:00, 1616.29it/s]\n",
      "100%|██████████| 510/510 [00:00<00:00, 1594.73it/s]\n",
      "100%|██████████| 501/501 [00:00<00:00, 1457.23it/s]\n"
     ]
    }
   ],
   "source": [
    "(train_images_resized, train_labels), (test_images_resized, test_labels) = load_data()"
   ]
  },
  {
   "cell_type": "code",
   "execution_count": 9,
   "metadata": {},
   "outputs": [],
   "source": [
    "train_images_resized_scaled =train_images_resized.reshape((-1,75,75,3)).astype('float32') / 255.0\n",
    "test_images_resized_scaled = test_images_resized.reshape((-1,75,75,3)).astype('float32') / 255.0"
   ]
  },
  {
   "cell_type": "code",
   "execution_count": null,
   "metadata": {},
   "outputs": [],
   "source": []
  },
  {
   "cell_type": "code",
   "execution_count": 21,
   "metadata": {},
   "outputs": [],
   "source": [
    "model = models.Sequential()\n",
    "\n"
   ]
  },
  {
   "cell_type": "code",
   "execution_count": null,
   "metadata": {},
   "outputs": [],
   "source": []
  },
  {
   "cell_type": "code",
   "execution_count": 22,
   "metadata": {},
   "outputs": [],
   "source": [
    "layers_list = [layers.MaxPooling2D(3,3),\n",
    "               layers.Dropout(0.35),\n",
    "               layers.Conv2D(128,(3,3),activation='relu',kernel_regularizer=regularizers.l2(l2=0.01)),\n",
    "               layers.Dropout(0.35)]\n",
    "\n",
    "model = modeler(layers_list)"
   ]
  },
  {
   "cell_type": "code",
   "execution_count": 23,
   "metadata": {},
   "outputs": [
    {
     "name": "stdout",
     "output_type": "stream",
     "text": [
      "Model: \"sequential_3\"\n",
      "_________________________________________________________________\n",
      "Layer (type)                 Output Shape              Param #   \n",
      "=================================================================\n",
      "conv2d_5 (Conv2D)            (None, 73, 73, 128)       3584      \n",
      "_________________________________________________________________\n",
      "max_pooling2d_3 (MaxPooling2 (None, 24, 24, 128)       0         \n",
      "_________________________________________________________________\n",
      "dropout_4 (Dropout)          (None, 24, 24, 128)       0         \n",
      "_________________________________________________________________\n",
      "conv2d_4 (Conv2D)            (None, 22, 22, 128)       147584    \n",
      "_________________________________________________________________\n",
      "dropout_5 (Dropout)          (None, 22, 22, 128)       0         \n",
      "_________________________________________________________________\n",
      "flatten_2 (Flatten)          (None, 61952)             0         \n",
      "_________________________________________________________________\n",
      "dense_4 (Dense)              (None, 128)               7929984   \n",
      "_________________________________________________________________\n",
      "dense_5 (Dense)              (None, 6)                 774       \n",
      "=================================================================\n",
      "Total params: 8,081,926\n",
      "Trainable params: 8,081,926\n",
      "Non-trainable params: 0\n",
      "_________________________________________________________________\n"
     ]
    }
   ],
   "source": [
    "model.summary()"
   ]
  },
  {
   "cell_type": "code",
   "execution_count": 24,
   "metadata": {},
   "outputs": [
    {
     "name": "stdout",
     "output_type": "stream",
     "text": [
      "Epoch 1/5\n",
      "878/878 [==============================] - 139s 157ms/step - loss: 1.1556 - acc: 0.5908 - val_loss: 0.9204 - val_acc: 0.6470\n",
      "Epoch 2/5\n",
      "878/878 [==============================] - 138s 157ms/step - loss: 0.8579 - acc: 0.6830 - val_loss: 0.9094 - val_acc: 0.6623\n",
      "Epoch 3/5\n",
      "878/878 [==============================] - 138s 157ms/step - loss: 0.7945 - acc: 0.7114 - val_loss: 0.7528 - val_acc: 0.7313\n",
      "Epoch 4/5\n",
      "878/878 [==============================] - 138s 157ms/step - loss: 0.7390 - acc: 0.7317 - val_loss: 0.6864 - val_acc: 0.7613\n",
      "Epoch 5/5\n",
      "878/878 [==============================] - 138s 158ms/step - loss: 0.6914 - acc: 0.7540 - val_loss: 0.6602 - val_acc: 0.7700\n"
     ]
    }
   ],
   "source": [
    "history = model_trainer(model,'L2-reg_2nd-dropout',train_images_resized_scaled,train_labels,test_images_resized_scaled,test_labels,epochs=5)"
   ]
  },
  {
   "cell_type": "code",
   "execution_count": 25,
   "metadata": {},
   "outputs": [
    {
     "data": {
      "image/png": "[encoded data removed]",
      "text/plain": [
       "<Figure size 432x432 with 1 Axes>"
      ]
     },
     "metadata": {},
     "output_type": "display_data"
    },
    {
     "data": {
      "image/png": "[encoded data removed]",
      "text/plain": [
       "<Figure size 432x432 with 1 Axes>"
      ]
     },
     "metadata": {},
     "output_type": "display_data"
    }
   ],
   "source": [
    "model_plots(history,'L2-reg_2nd-dropout')"
   ]
  },
  {
   "cell_type": "code",
   "execution_count": null,
   "metadata": {},
   "outputs": [],
   "source": [
    "import lime"
   ]
  },
  {
   "cell_type": "code",
   "execution_count": null,
   "metadata": {},
   "outputs": [],
   "source": [
    "from lime import lime_image\n",
    "from skimage.segmentation import mark_boundaries"
   ]
  },
  {
   "cell_type": "code",
   "execution_count": null,
   "metadata": {},
   "outputs": [],
   "source": [
    "import random"
   ]
  },
  {
   "cell_type": "code",
   "execution_count": null,
   "metadata": {},
   "outputs": [],
   "source": [
    "explainer = lime_image.LimeImageExplainer(random_state=1)"
   ]
  },
  {
   "cell_type": "code",
   "execution_count": null,
   "metadata": {},
   "outputs": [],
   "source": [
    "explanation = explainer.explain_instance(train_images[10], model.predict)\n",
    "plt.imshow(train_images[10])\n",
    "temp, mask = explanation.get_image_and_mask(model.predict(train_images[10].reshape((1,28,28,3))).argmax(axis=1)[0], positive_only=True, hide_rest=False)\n",
    "plt.imshow(mark_boundaries(temp, mask))"
   ]
  }
 ],
 "metadata": {
  "kernelspec": {
   "display_name": "learn-env",
   "language": "python",
   "name": "learn-env"
  },
  "language_info": {
   "codemirror_mode": {
    "name": "ipython",
    "version": 3
   },
   "file_extension": ".py",
   "mimetype": "text/x-python",
   "name": "python",
   "nbconvert_exporter": "python",
   "pygments_lexer": "ipython3",
   "version": "3.8.5"
  }
 },
 "nbformat": 4,
 "nbformat_minor": 4
}
