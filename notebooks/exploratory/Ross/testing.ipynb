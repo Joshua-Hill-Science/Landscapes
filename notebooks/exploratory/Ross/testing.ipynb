{
 "cells": [
  {
   "cell_type": "code",
   "execution_count": null,
   "id": "8f600ab5",
   "metadata": {},
   "outputs": [],
   "source": [
    "import tensorflow as tf\n",
    "import pandas as pd\n",
    "from tensorflow import keras\n",
    "from tensorflow.keras.layers import Dense, Flatten, Conv2D\n",
    "from tensorflow.keras import Model\n",
    "from tensorflow.keras.preprocessing.image import ImageDataGenerator, array_to_img, img_to_array, load_img\n",
    "import numpy as np\n",
    "import os\n",
    "import matplotlib.pyplot as plt\n",
    "%matplotlib inline\n",
    "plt.style.use('fivethirtyeight')\n",
    "\n",
    "from tensorflow.keras import models\n",
    "from tensorflow.keras import layers\n",
    "from tensorflow.keras import optimizers\n",
    "from tensorflow.keras.models import Sequential\n",
    "from tensorflow.keras.layers import Dense\n"
   ]
  },
  {
   "cell_type": "code",
   "execution_count": 2,
   "id": "a6594022",
   "metadata": {},
   "outputs": [
    {
     "name": "stdout",
     "output_type": "stream",
     "text": [
      "Found 3000 images belonging to 6 classes.\n",
      "Found 14034 images belonging to 6 classes.\n"
     ]
    }
   ],
   "source": [
    "train_data_dir = '../../../../../p4_data/LandscapeImgFolder/seg_train/seg_train'\n",
    "test_data_dir = '../../../../../p4_data/LandscapeImgFolder/seg_test/seg_test'\n",
    "\n",
    "# Get all the data in the directory data/validation (132 images), and reshape them\n",
    "test_generator = ImageDataGenerator(rescale = 1.0/255).flow_from_directory(\n",
    "        test_data_dir, \n",
    "        target_size=(64, 64), batch_size=64)\n",
    "\n",
    "# Get all the data in the directory data/train (790 images), and reshape them\n",
    "train_generator = ImageDataGenerator(rescale = 1.0/255).flow_from_directory(\n",
    "        train_data_dir, \n",
    "        target_size=(64, 64), batch_size=64)\n",
    "\n",
    "# Create the datasets\n",
    "# train_images, train_labels = next(train_generator)\n",
    "# test_images, test_labels = next(test_generator)"
   ]
  },
  {
   "cell_type": "code",
   "execution_count": null,
   "id": "17120045",
   "metadata": {},
   "outputs": [],
   "source": [
    "print(train_images.shape)\n",
    "print(train_labels.shape)"
   ]
  },
  {
   "cell_type": "code",
   "execution_count": null,
   "id": "32592e2f",
   "metadata": {},
   "outputs": [],
   "source": [
    "array_to_img(train_images[2])"
   ]
  },
  {
   "cell_type": "code",
   "execution_count": null,
   "id": "66c3f844",
   "metadata": {},
   "outputs": [],
   "source": []
  },
  {
   "cell_type": "markdown",
   "id": "a79561e6",
   "metadata": {},
   "source": [
    "**Baseline model**"
   ]
  },
  {
   "cell_type": "code",
   "execution_count": 3,
   "id": "c89978e2",
   "metadata": {},
   "outputs": [],
   "source": [
    "from tensorflow.keras.layers import MaxPooling2D\n",
    "\n",
    "model = Sequential() \n",
    "model.add(Conv2D(64, (3, 3), activation='relu', padding='same', input_shape=(64, 64, 3), use_bias=True)) \n",
    "model.add(MaxPooling2D((2, 2))) \n",
    "model.add(Flatten()) \n",
    "model.add(Dense(128, activation='relu', use_bias=True)) \n",
    "model.add(Dense(6, activation='sigmoid', use_bias=True))\n",
    "\n",
    "model.compile(loss='categorical_crossentropy',\n",
    "              optimizer='adam',\n",
    "              metrics=['accuracy'])"
   ]
  },
  {
   "cell_type": "code",
   "execution_count": null,
   "id": "d263e5bd",
   "metadata": {},
   "outputs": [],
   "source": [
    "from tensorflow.keras.layers import Flatten, Input\n",
    "\n",
    "model = Sequential()\n",
    "model.add(Input((64, 64, 3)))\n",
    "model.add(Flatten())\n",
    "model.add(Dense(units=18, activation='relu'))\n",
    "\n",
    "model.add(Dense(units=16, activation='relu'))\n",
    "\n",
    "model.add(Dense(units=6, activation='softmax')) "
   ]
  },
  {
   "cell_type": "code",
   "execution_count": null,
   "id": "aa5bbec8",
   "metadata": {},
   "outputs": [],
   "source": [
    "            #specify loss function, optimizer, and  metrics\n",
    "model.compile(loss='categorical_crossentropy',        # nesterov helps gradient descent converge (need to specify momentum)\n",
    "              optimizer='adam',\n",
    "              metrics=['accuracy'])"
   ]
  },
  {
   "cell_type": "code",
   "execution_count": null,
   "id": "b3ad6642",
   "metadata": {},
   "outputs": [],
   "source": [
    "model.summary()"
   ]
  },
  {
   "cell_type": "code",
   "execution_count": null,
   "id": "58f0ab67",
   "metadata": {},
   "outputs": [],
   "source": [
    "print(train_labels.shape)\n",
    "print(train_img_final.shape)\n",
    "print(test_labels.shape)\n",
    "print(test_img_final.shape)"
   ]
  },
  {
   "cell_type": "code",
   "execution_count": null,
   "id": "94a87f59",
   "metadata": {},
   "outputs": [],
   "source": [
    "history = model.fit_generator(\n",
    "        train_generator,\n",
    "        epochs=1,\n",
    "        validation_data = test_generator)# (train_img_final.T, train_labels, \n",
    "#                     epochs=5, batch_size=16,\n",
    "#                     validation_data = (test_img_final.T, test_labels))\n",
    "#                     # validation_split=0.2 # Optionally use a split here"
   ]
  },
  {
   "cell_type": "code",
   "execution_count": null,
   "id": "de4be2cd",
   "metadata": {},
   "outputs": [],
   "source": [
    "from tensorflow.keras import regularizers\n",
    "import random\n",
    "\n",
    "random.seed(123)\n",
    "L2_model = models.Sequential()\n",
    "\n",
    "L2_model.add(layers.Dense(50, activation='relu', kernel_regularizer=regularizers.l2(0.005), input_shape=(64, 64, 3)))\n",
    "\n",
    "L2_model.add(layers.Dense(25, kernel_regularizer=regularizers.l2(0.005), activation='relu'))\n",
    "\n",
    "L2_model.add(layers.Dense(6, activation='softmax'))\n",
    "\n"
   ]
  },
  {
   "cell_type": "code",
   "execution_count": null,
   "id": "281ef145",
   "metadata": {},
   "outputs": [],
   "source": [
    "L2_model.compile(optimizer='SGD', \n",
    "                 loss='categorical_crossentropy', \n",
    "                 metrics=['acc'])"
   ]
  },
  {
   "cell_type": "code",
   "execution_count": null,
   "id": "91a2ec82",
   "metadata": {},
   "outputs": [],
   "source": [
    "L2_model_val = L2_model.fit_generator(\n",
    "                            train_generator,\n",
    "                            epochs=5, \n",
    "                            validation_data=test_generator)"
   ]
  },
  {
   "cell_type": "code",
   "execution_count": null,
   "id": "3bb61d5c",
   "metadata": {},
   "outputs": [],
   "source": []
  }
 ],
 "metadata": {
  "kernelspec": {
   "display_name": "chess",
   "language": "python",
   "name": "chess"
  },
  "language_info": {
   "codemirror_mode": {
    "name": "ipython",
    "version": 3
   },
   "file_extension": ".py",
   "mimetype": "text/x-python",
   "name": "python",
   "nbconvert_exporter": "python",
   "pygments_lexer": "ipython3",
   "version": "3.7.10"
  }
 },
 "nbformat": 4,
 "nbformat_minor": 5
}
