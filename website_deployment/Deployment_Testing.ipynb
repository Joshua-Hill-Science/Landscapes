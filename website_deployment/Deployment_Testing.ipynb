{
 "cells": [
  {
   "cell_type": "markdown",
   "id": "898c64e0-36b8-4a35-9b53-c8d48f558c8c",
   "metadata": {},
   "source": [
    "# Testing Website Code"
   ]
  },
  {
   "cell_type": "code",
   "execution_count": 1,
   "id": "8aa2d36f-8588-48e4-a9d2-7cbf515b3c4c",
   "metadata": {
    "execution": {
     "iopub.execute_input": "2021-08-12T14:11:20.081372Z",
     "iopub.status.busy": "2021-08-12T14:11:20.081372Z",
     "iopub.status.idle": "2021-08-12T14:13:13.230597Z",
     "shell.execute_reply": "2021-08-12T14:13:13.229627Z",
     "shell.execute_reply.started": "2021-08-12T14:11:20.081372Z"
    },
    "tags": []
   },
   "outputs": [],
   "source": [
    "# basic import for image loading\n",
    "import numpy as np\n",
    "import cv2\n",
    "from sklearn.cluster import MiniBatchKMeans\n",
    "import tensorflow\n",
    "# graphing tools\n",
    "import matplotlib.pyplot as plt\n",
    "import matplotlib.patches as mpatches"
   ]
  },
  {
   "cell_type": "markdown",
   "id": "58ef043d-2789-4ac9-9930-b7e669d289d5",
   "metadata": {
    "execution": {
     "iopub.execute_input": "2021-08-12T14:13:26.893827Z",
     "iopub.status.busy": "2021-08-12T14:13:26.893827Z",
     "iopub.status.idle": "2021-08-12T14:13:32.564190Z",
     "shell.execute_reply": "2021-08-12T14:13:32.563192Z",
     "shell.execute_reply.started": "2021-08-12T14:13:26.893827Z"
    },
    "tags": []
   },
   "source": [
    "Predetermined variables that the website will use."
   ]
  },
  {
   "cell_type": "code",
   "execution_count": 6,
   "id": "05964780-8fac-44b7-b6bd-166817232a56",
   "metadata": {
    "execution": {
     "iopub.execute_input": "2021-08-12T14:13:32.565187Z",
     "iopub.status.busy": "2021-08-12T14:13:32.565187Z",
     "iopub.status.idle": "2021-08-12T14:13:32.596105Z",
     "shell.execute_reply": "2021-08-12T14:13:32.595107Z",
     "shell.execute_reply.started": "2021-08-12T14:13:32.565187Z"
    },
    "tags": []
   },
   "outputs": [],
   "source": [
    "class_names = ['mountain', 'street', 'glacier', 'buildings', 'sea', 'forest']"
   ]
  },
  {
   "cell_type": "markdown",
   "id": "a6ffd0ad-34a4-410c-9aef-3342f4d50e94",
   "metadata": {},
   "source": [
    "Loading the model and image in a similar way to the website code."
   ]
  },
  {
   "cell_type": "code",
   "execution_count": 7,
   "id": "99fa0b86-0468-4712-a7d7-40b0cab89693",
   "metadata": {
    "execution": {
     "iopub.execute_input": "2021-08-12T14:13:32.598099Z",
     "iopub.status.busy": "2021-08-12T14:13:32.598099Z",
     "iopub.status.idle": "2021-08-12T14:13:37.303968Z",
     "shell.execute_reply": "2021-08-12T14:13:37.303968Z",
     "shell.execute_reply.started": "2021-08-12T14:13:32.598099Z"
    },
    "tags": []
   },
   "outputs": [],
   "source": [
    "model = tensorflow.keras.models.load_model(\"Models/3rd-color_comp_model.h5\")"
   ]
  },
  {
   "cell_type": "code",
   "execution_count": 8,
   "id": "5b11d9f2-7930-44ed-a8a7-0a3fe7a6f808",
   "metadata": {
    "execution": {
     "iopub.execute_input": "2021-08-12T14:13:37.305963Z",
     "iopub.status.busy": "2021-08-12T14:13:37.305963Z",
     "iopub.status.idle": "2021-08-12T14:13:37.587237Z",
     "shell.execute_reply": "2021-08-12T14:13:37.587237Z",
     "shell.execute_reply.started": "2021-08-12T14:13:37.305963Z"
    },
    "tags": []
   },
   "outputs": [],
   "source": [
    "image = tensorflow.keras.preprocessing.image.load_img(\"Sample_Pictures/Sea_Image.jpg\")"
   ]
  },
  {
   "cell_type": "code",
   "execution_count": 30,
   "id": "8340451d-8cf0-4590-9fbc-7924f8016ad0",
   "metadata": {
    "execution": {
     "iopub.execute_input": "2021-08-12T14:21:06.601636Z",
     "iopub.status.busy": "2021-08-12T14:21:06.601636Z",
     "iopub.status.idle": "2021-08-12T14:21:06.612607Z",
     "shell.execute_reply": "2021-08-12T14:21:06.611610Z",
     "shell.execute_reply.started": "2021-08-12T14:21:06.601636Z"
    },
    "tags": []
   },
   "outputs": [
    {
     "data": {
      "text/plain": [
       "(1, 75, 75, 3)"
      ]
     },
     "execution_count": 30,
     "metadata": {},
     "output_type": "execute_result"
    }
   ],
   "source": [
    "image.shape"
   ]
  },
  {
   "cell_type": "markdown",
   "id": "5ef22eb5-d8c9-49ff-ad2c-007a7fc202f1",
   "metadata": {},
   "source": [
    "Imported color_compression_KNN from EDA notebook"
   ]
  },
  {
   "cell_type": "code",
   "execution_count": 9,
   "id": "ad98c8bc-934a-4d6b-ad64-0e0523621fb7",
   "metadata": {
    "execution": {
     "iopub.execute_input": "2021-08-12T14:13:37.589206Z",
     "iopub.status.busy": "2021-08-12T14:13:37.588208Z",
     "iopub.status.idle": "2021-08-12T14:13:37.604166Z",
     "shell.execute_reply": "2021-08-12T14:13:37.603167Z",
     "shell.execute_reply.started": "2021-08-12T14:13:37.589206Z"
    },
    "tags": []
   },
   "outputs": [],
   "source": [
    "def color_compress_KNN(image, KNN=4):\n",
    "    import warnings; warnings.simplefilter('ignore') \n",
    "    Kmeans_images = []\n",
    "    rescaled_image = np.array(image) / 255.0 # use 0...1 scale\n",
    "    preprocessed_image = rescaled_image.reshape(150 * 150, 3)\n",
    "    kmeans = MiniBatchKMeans(KNN)\n",
    "    kmeans.fit(preprocessed_image)\n",
    "    new_colors = kmeans.cluster_centers_[kmeans.predict(preprocessed_image)]\n",
    "    color_compressed_image = new_colors.reshape(np.array(image).shape)\n",
    "    reshaped_cci = cv2.resize(color_compressed_image, (75,75)).reshape(1,75,75,3)\n",
    "    return reshaped_cci"
   ]
  },
  {
   "cell_type": "code",
   "execution_count": 10,
   "id": "9f90cf36-cb65-4dd0-897d-4d7cb80f2aef",
   "metadata": {
    "execution": {
     "iopub.execute_input": "2021-08-12T14:13:37.606161Z",
     "iopub.status.busy": "2021-08-12T14:13:37.606161Z",
     "iopub.status.idle": "2021-08-12T14:13:39.126096Z",
     "shell.execute_reply": "2021-08-12T14:13:39.125098Z",
     "shell.execute_reply.started": "2021-08-12T14:13:37.606161Z"
    },
    "tags": []
   },
   "outputs": [
    {
     "data": {
      "text/plain": [
       "(1, 75, 75, 3)"
      ]
     },
     "execution_count": 10,
     "metadata": {},
     "output_type": "execute_result"
    }
   ],
   "source": [
    "image_cc = color_compress_KNN(image)\n",
    "image_cc.shape"
   ]
  },
  {
   "cell_type": "markdown",
   "id": "865cd060-eaa5-4077-b50f-b2d6a3a99959",
   "metadata": {},
   "source": [
    "First Graph, Bar graph"
   ]
  },
  {
   "cell_type": "code",
   "execution_count": 11,
   "id": "9487aa65-1671-415d-bd4a-e030fe0a787d",
   "metadata": {
    "execution": {
     "iopub.execute_input": "2021-08-12T14:13:39.127094Z",
     "iopub.status.busy": "2021-08-12T14:13:39.127094Z",
     "iopub.status.idle": "2021-08-12T14:13:41.932592Z",
     "shell.execute_reply": "2021-08-12T14:13:41.931594Z",
     "shell.execute_reply.started": "2021-08-12T14:13:39.127094Z"
    },
    "tags": []
   },
   "outputs": [
    {
     "data": {
      "image/png": "[encoded data removed]",
      "text/plain": [
       "<Figure size 432x288 with 1 Axes>"
      ]
     },
     "metadata": {
      "needs_background": "light"
     },
     "output_type": "display_data"
    }
   ],
   "source": [
    "color_coder=dict(enumerate(model.predict(image_cc)[0],0))\n",
    "fig, ax = plt.subplots()\n",
    "ax =plt.bar([0,1,2,3,4,5], model.predict(image_cc)[0])\n",
    "for i in color_coder:\n",
    "    if color_coder[i] == model.predict(image_cc)[0].max():\n",
    "        ax[i].set_color(\"r\")\n",
    "        Best_guess = mpatches.Patch(color='red', label=round(color_coder[i],2))\n",
    "    else:\n",
    "        ax[i].set_color(\"b\")\n",
    "plt.legend(handles=[Best_guess])\n",
    "ax = plt.xticks(ticks=[0,1,2,3,4,5],labels=class_names)"
   ]
  },
  {
   "cell_type": "code",
   "execution_count": 12,
   "id": "fc959d4b-adba-4ff8-a7f2-edcb04a0a60c",
   "metadata": {
    "execution": {
     "iopub.execute_input": "2021-08-12T14:13:41.933589Z",
     "iopub.status.busy": "2021-08-12T14:13:41.933589Z",
     "iopub.status.idle": "2021-08-12T14:13:41.947551Z",
     "shell.execute_reply": "2021-08-12T14:13:41.947551Z",
     "shell.execute_reply.started": "2021-08-12T14:13:41.933589Z"
    },
    "tags": []
   },
   "outputs": [],
   "source": [
    "def highest(dict_of_confidence):\n",
    "    for i in dict_of_confidence:\n",
    "        if dict_of_confidence[i] == model.predict(image)[0].max():\n",
    "            return round(dict_of_confidence[i],2)"
   ]
  },
  {
   "cell_type": "code",
   "execution_count": 13,
   "id": "dcd81d93-81eb-4741-ad8f-6f96c491a7ea",
   "metadata": {
    "execution": {
     "iopub.execute_input": "2021-08-12T14:13:41.949546Z",
     "iopub.status.busy": "2021-08-12T14:13:41.948549Z",
     "iopub.status.idle": "2021-08-12T14:13:42.056260Z",
     "shell.execute_reply": "2021-08-12T14:13:42.056260Z",
     "shell.execute_reply.started": "2021-08-12T14:13:41.949546Z"
    },
    "tags": []
   },
   "outputs": [],
   "source": [
    "class_titles =[x.title() for x in class_names]"
   ]
  },
  {
   "cell_type": "code",
   "execution_count": 14,
   "id": "08a361ff-4d36-4fdf-8cd5-5da7dd295087",
   "metadata": {
    "execution": {
     "iopub.execute_input": "2021-08-12T14:13:42.058255Z",
     "iopub.status.busy": "2021-08-12T14:13:42.057258Z",
     "iopub.status.idle": "2021-08-12T14:13:42.229796Z",
     "shell.execute_reply": "2021-08-12T14:13:42.229796Z",
     "shell.execute_reply.started": "2021-08-12T14:13:42.058255Z"
    },
    "tags": []
   },
   "outputs": [
    {
     "data": {
      "text/plain": [
       "['Mountain', 'Street', 'Glacier', 'Buildings', 'Sea', 'Forest']"
      ]
     },
     "execution_count": 14,
     "metadata": {},
     "output_type": "execute_result"
    }
   ],
   "source": [
    "class_titles"
   ]
  },
  {
   "cell_type": "markdown",
   "id": "a58eb2b7-68ca-4712-ad9b-d7df9004c59c",
   "metadata": {},
   "source": [
    "Second Graph, Donut graph"
   ]
  },
  {
   "cell_type": "code",
   "execution_count": 16,
   "id": "733232e8-2d8a-4876-bcfd-c7905ccfdc96",
   "metadata": {
    "execution": {
     "iopub.execute_input": "2021-08-12T14:17:07.455553Z",
     "iopub.status.busy": "2021-08-12T14:17:07.455553Z",
     "iopub.status.idle": "2021-08-12T14:17:08.627005Z",
     "shell.execute_reply": "2021-08-12T14:17:08.626007Z",
     "shell.execute_reply.started": "2021-08-12T14:17:07.455553Z"
    },
    "tags": []
   },
   "outputs": [
    {
     "data": {
      "image/png": "[encoded data removed]",
      "text/plain": [
       "<Figure size 432x288 with 1 Axes>"
      ]
     },
     "metadata": {},
     "output_type": "display_data"
    }
   ],
   "source": [
    "fig, ax = plt.subplots(subplot_kw=dict(aspect=\"equal\"))\n",
    "recipe = color_coder\n",
    "data = color_coder.values()\n",
    "wedges, texts = plt.pie(color_coder.values(), wedgeprops=dict(width=0.5), startangle=-40)\n",
    "bbox_props = dict(boxstyle=\"square,pad=0.3\", fc=\"w\", ec=\"k\", lw=0.72)\n",
    "kw = dict(arrowprops=dict(arrowstyle=\"-\"), bbox=bbox_props, zorder=0, va=\"center\")\n",
    "\n",
    "ax.legend(wedges, class_names,title=\"Classes\")\n",
    "for i, p in enumerate(wedges):\n",
    "    ang = (p.theta2 - p.theta1)/2. + p.theta1\n",
    "    y = np.sin(np.deg2rad(ang))\n",
    "    x = np.cos(np.deg2rad(ang))\n",
    "    horizontalalignment = {-1: \"right\", 1: \"left\"}[int(np.sign(x))]\n",
    "    connectionstyle = \"angle,angleA=0,angleB={}\".format(ang)\n",
    "    kw[\"arrowprops\"].update({\"connectionstyle\": connectionstyle})\n",
    "    ax.annotate(round(color_coder[i],2), xy=(x, y), xytext=(1.35*np.sign(x), 1.4*y),\n",
    "                horizontalalignment=horizontalalignment, **kw)\n",
    "ax.set_title(\"Model's Confidence as a Pie Chart\")\n",
    "plt.show()"
   ]
  },
  {
   "cell_type": "markdown",
   "id": "8a49d6c9-dd23-44c9-bba5-915955e2577a",
   "metadata": {
    "execution": {
     "iopub.execute_input": "2021-08-12T15:38:55.040627Z",
     "iopub.status.busy": "2021-08-12T15:38:55.039655Z",
     "iopub.status.idle": "2021-08-12T15:38:55.053601Z",
     "shell.execute_reply": "2021-08-12T15:38:55.052595Z",
     "shell.execute_reply.started": "2021-08-12T15:38:55.040627Z"
    }
   },
   "source": [
    "Third Graph, Stem graph"
   ]
  },
  {
   "cell_type": "code",
   "execution_count": 87,
   "id": "7d31b0fe-abe9-4f8f-9448-6050de2f322c",
   "metadata": {
    "execution": {
     "iopub.execute_input": "2021-08-12T14:56:48.122115Z",
     "iopub.status.busy": "2021-08-12T14:56:48.121118Z",
     "iopub.status.idle": "2021-08-12T14:56:48.350944Z",
     "shell.execute_reply": "2021-08-12T14:56:48.348943Z",
     "shell.execute_reply.started": "2021-08-12T14:56:48.122115Z"
    },
    "tags": []
   },
   "outputs": [
    {
     "data": {
      "image/png": "[encoded data removed]",
      "text/plain": [
       "<Figure size 432x288 with 1 Axes>"
      ]
     },
     "metadata": {
      "needs_background": "light"
     },
     "output_type": "display_data"
    }
   ],
   "source": [
    "# creating an empty chart\n",
    "fig= plt.figure()\n",
    "ax1=fig.add_subplot(111)\n",
    "# plotting using plt.stem\n",
    "ax1.stem([0,1,2,3,4,5], model.predict(image)[0], basefmt=' ', use_line_collection=True)\n",
    "# plt.legend(labels=np.round(color_coder,2))\n",
    "# for i in color_coder:\n",
    "#     if color_coder[i] == model.predict(image)[0].max():\n",
    "plt.title(\"Model's Confidence as a Lollipop Chart\")\n",
    "plt.ylabel(\"Model Confidence\")\n",
    "plt.xlabel(\"Classes\")\n",
    "ax1 = plt.xticks(ticks=[0,1,2,3,4,5],labels=[x.title() for x in class_names])"
   ]
  },
  {
   "cell_type": "code",
   "execution_count": 18,
   "id": "faa6464a-2552-4675-b632-02887b1c06d0",
   "metadata": {
    "execution": {
     "iopub.execute_input": "2021-08-12T14:17:08.929197Z",
     "iopub.status.busy": "2021-08-12T14:17:08.928205Z",
     "iopub.status.idle": "2021-08-12T14:17:08.941165Z",
     "shell.execute_reply": "2021-08-12T14:17:08.940168Z",
     "shell.execute_reply.started": "2021-08-12T14:17:08.929197Z"
    },
    "tags": []
   },
   "outputs": [],
   "source": [
    "image = image_cc"
   ]
  },
  {
   "cell_type": "code",
   "execution_count": 28,
   "id": "20240d20-3e23-40b2-9f51-4eb07c5ada60",
   "metadata": {
    "execution": {
     "iopub.execute_input": "2021-08-12T14:18:03.130247Z",
     "iopub.status.busy": "2021-08-12T14:18:03.129249Z",
     "iopub.status.idle": "2021-08-12T14:18:03.149196Z",
     "shell.execute_reply": "2021-08-12T14:18:03.148199Z",
     "shell.execute_reply.started": "2021-08-12T14:18:03.130247Z"
    },
    "tags": []
   },
   "outputs": [
    {
     "data": {
      "text/plain": [
       "True"
      ]
     },
     "execution_count": 28,
     "metadata": {},
     "output_type": "execute_result"
    }
   ],
   "source": [
    "image_cc.shape == (1,75,75,3)"
   ]
  },
  {
   "cell_type": "code",
   "execution_count": 19,
   "id": "29e81a3b-d13c-4dd0-800a-892b126ae42f",
   "metadata": {
    "execution": {
     "iopub.execute_input": "2021-08-12T14:17:09.083784Z",
     "iopub.status.busy": "2021-08-12T14:17:09.083784Z",
     "iopub.status.idle": "2021-08-12T14:17:09.098744Z",
     "shell.execute_reply": "2021-08-12T14:17:09.097745Z",
     "shell.execute_reply.started": "2021-08-12T14:17:09.083784Z"
    },
    "tags": []
   },
   "outputs": [
    {
     "data": {
      "text/plain": [
       "{0: 0.017910156,\n",
       " 1: 2.5854073e-05,\n",
       " 2: 0.027993184,\n",
       " 3: 0.013778304,\n",
       " 4: 0.93296266,\n",
       " 5: 0.0073298137}"
      ]
     },
     "execution_count": 19,
     "metadata": {},
     "output_type": "execute_result"
    }
   ],
   "source": [
    "color_coder"
   ]
  },
  {
   "cell_type": "code",
   "execution_count": 62,
   "id": "e5770eda-49ca-4802-b53e-e23ae8fd0aa1",
   "metadata": {
    "execution": {
     "iopub.execute_input": "2021-08-12T14:38:57.507719Z",
     "iopub.status.busy": "2021-08-12T14:38:57.506722Z",
     "iopub.status.idle": "2021-08-12T14:38:57.589501Z",
     "shell.execute_reply": "2021-08-12T14:38:57.588502Z",
     "shell.execute_reply.started": "2021-08-12T14:38:57.507719Z"
    },
    "tags": []
   },
   "outputs": [
    {
     "data": {
      "text/plain": [
       "0.93296266"
      ]
     },
     "execution_count": 62,
     "metadata": {},
     "output_type": "execute_result"
    }
   ],
   "source": [
    "model.predict(image)[0][4]"
   ]
  },
  {
   "cell_type": "markdown",
   "id": "82b9b38c-839a-4dfa-9968-99cd79456b62",
   "metadata": {},
   "source": [
    "Final Graph, Scatter graph"
   ]
  },
  {
   "cell_type": "code",
   "execution_count": 76,
   "id": "d19da1f1-14d4-4fb2-9226-daef0c58d12c",
   "metadata": {
    "execution": {
     "iopub.execute_input": "2021-08-12T14:52:39.037892Z",
     "iopub.status.busy": "2021-08-12T14:52:39.036894Z",
     "iopub.status.idle": "2021-08-12T14:52:39.276960Z",
     "shell.execute_reply": "2021-08-12T14:52:39.275963Z",
     "shell.execute_reply.started": "2021-08-12T14:52:39.037892Z"
    },
    "tags": []
   },
   "outputs": [
    {
     "data": {
      "image/png": "[encoded data removed]",
      "text/plain": [
       "<Figure size 432x288 with 1 Axes>"
      ]
     },
     "metadata": {
      "needs_background": "light"
     },
     "output_type": "display_data"
    }
   ],
   "source": [
    "fig= plt.figure()\n",
    "ax1=fig.add_subplot(111)\n",
    "X =[0,1,2,3,4,5]\n",
    "y=model.predict(image)[0]\n",
    "for i in color_coder:\n",
    "    if color_coder[i] == y.max():\n",
    "        ax1.scatter([i], y[i], c ='r', marker=\"*\", s=100)\n",
    "        ax1.scatter(np.delete(X,i), np.delete(y,i))\n",
    "        Best_guess = mpatches.Patch(color='red', label=round(color_coder[i],2))\n",
    "plt.legend(handles=[Best_guess])\n",
    "ax1= plt.xticks(ticks=[0,1,2,3,4,5],labels=[x.title() for x in class_names])"
   ]
  },
  {
   "cell_type": "markdown",
   "id": "fd924f68-5611-4048-b531-a280925eab74",
   "metadata": {},
   "source": [
    "### Basic graph selector from a string"
   ]
  },
  {
   "cell_type": "code",
   "execution_count": 22,
   "id": "199f50d0-f1a3-4e57-ae03-316455f5d9d7",
   "metadata": {
    "execution": {
     "iopub.execute_input": "2021-08-12T14:17:10.059175Z",
     "iopub.status.busy": "2021-08-12T14:17:10.059175Z",
     "iopub.status.idle": "2021-08-12T14:17:10.089095Z",
     "shell.execute_reply": "2021-08-12T14:17:10.088097Z",
     "shell.execute_reply.started": "2021-08-12T14:17:10.059175Z"
    },
    "tags": []
   },
   "outputs": [],
   "source": [
    "def pick_a_graph(model, image, graph_type=\"bar\"):\n",
    "    if graph_type == \"bar\":\n",
    "        color_coder=dict(enumerate(model.predict(image_cc)[0],0))\n",
    "        fig_bar, ax = plt.subplots(figsize=(15,10))\n",
    "        ax = plt.bar([0,1,2,3,4,5], model.predict(image_cc)[0])\n",
    "        for i in color_coder:\n",
    "            if color_coder[i] == model.predict(image_cc)[0].max():\n",
    "                ax[i].set_color(\"r\")\n",
    "                Best_guess = mpatches.Patch(color='red', label=round(color_coder[i],2))\n",
    "            else:\n",
    "                ax[i].set_color(\"b\")\n",
    "        plt.legend(handles=[Best_guess])\n",
    "        plt.title(\"Model's Confidence as a Bar Chart\")\n",
    "        plt.ylabel(\"Model Confidence\")\n",
    "        plt.xlabel(\"Classes\")\n",
    "        ax = plt.xticks(ticks=[0,1,2,3,4,5],labels=[x.title() for x in class_names], size=10)\n",
    "        return plt.show(fig_bar)\n",
    "    elif graph_type == \"pie\":\n",
    "        fig_pie, ax = plt.subplots(figsize=(15,10),subplot_kw=dict(aspect=\"equal\"))\n",
    "        color_coder=dict(enumerate(model.predict(image_cc)[0],0))\n",
    "        recipe = color_coder\n",
    "        data = color_coder.values()\n",
    "        wedges, texts = plt.pie(color_coder.values(), wedgeprops=dict(width=0.5), startangle=-40)\n",
    "        bbox_props = dict(boxstyle=\"square,pad=0.3\", fc=\"w\", ec=\"k\", lw=0.72)\n",
    "        kw = dict(arrowprops=dict(arrowstyle=\"-\"), bbox=bbox_props, zorder=0, va=\"center\")\n",
    "\n",
    "        ax.legend(wedges, [x.title() for x in class_names], title=\"Classes\")\n",
    "        for i, p in enumerate(wedges):\n",
    "            ang = (p.theta2 - p.theta1)/2. + p.theta1\n",
    "            y = np.sin(np.deg2rad(ang))\n",
    "            x = np.cos(np.deg2rad(ang))\n",
    "            horizontalalignment = {-1: \"right\", 1: \"left\"}[int(np.sign(x))]\n",
    "            connectionstyle = \"angle,angleA=0,angleB={}\".format(ang)\n",
    "            kw[\"arrowprops\"].update({\"connectionstyle\": connectionstyle})\n",
    "            ax.annotate(round(color_coder[i],2), xy=(x, y), xytext=(1.35*np.sign(x), 1.4*y),\n",
    "                        horizontalalignment=horizontalalignment, **kw)\n",
    "        ax.set_title(\"Model's Confidence as a Pie Chart\")\n",
    "        return plt.show(fig_pie)"
   ]
  },
  {
   "cell_type": "code",
   "execution_count": 23,
   "id": "92ade3ab-5d52-42df-8882-5c06a88ec985",
   "metadata": {
    "execution": {
     "iopub.execute_input": "2021-08-12T14:17:10.090092Z",
     "iopub.status.busy": "2021-08-12T14:17:10.090092Z",
     "iopub.status.idle": "2021-08-12T14:17:10.864024Z",
     "shell.execute_reply": "2021-08-12T14:17:10.863026Z",
     "shell.execute_reply.started": "2021-08-12T14:17:10.090092Z"
    },
    "tags": []
   },
   "outputs": [
    {
     "data": {
      "image/png": "[encoded data removed]",
      "text/plain": [
       "<Figure size 1080x720 with 1 Axes>"
      ]
     },
     "metadata": {
      "needs_background": "light"
     },
     "output_type": "display_data"
    }
   ],
   "source": [
    "pick_a_graph(model, image_cc)"
   ]
  },
  {
   "cell_type": "markdown",
   "id": "fe75fe0a-6547-4f10-88c6-8804e8c48757",
   "metadata": {},
   "source": [
    "## Imported Lime code from Warren's Notebook to deploy on website"
   ]
  },
  {
   "cell_type": "code",
   "execution_count": 24,
   "id": "9e2dba95-6183-4eed-93cd-c9b32a06e8a3",
   "metadata": {
    "execution": {
     "iopub.execute_input": "2021-08-12T14:17:10.865021Z",
     "iopub.status.busy": "2021-08-12T14:17:10.865021Z",
     "iopub.status.idle": "2021-08-12T14:17:16.543766Z",
     "shell.execute_reply": "2021-08-12T14:17:16.542766Z",
     "shell.execute_reply.started": "2021-08-12T14:17:10.865021Z"
    },
    "tags": []
   },
   "outputs": [
    {
     "ename": "KeyboardInterrupt",
     "evalue": "",
     "output_type": "error",
     "traceback": [
      "\u001b[1;31m---------------------------------------------------------------------------\u001b[0m",
      "\u001b[1;31mKeyboardInterrupt\u001b[0m                         Traceback (most recent call last)",
      "\u001b[1;32m<ipython-input-24-ad24325515a8>\u001b[0m in \u001b[0;36m<module>\u001b[1;34m\u001b[0m\n\u001b[1;32m----> 1\u001b[1;33m \u001b[1;32mfrom\u001b[0m \u001b[0mlime\u001b[0m \u001b[1;32mimport\u001b[0m \u001b[0mlime_image\u001b[0m\u001b[1;33m\u001b[0m\u001b[1;33m\u001b[0m\u001b[0m\n\u001b[0m\u001b[0;32m      2\u001b[0m \u001b[1;32mfrom\u001b[0m \u001b[0mskimage\u001b[0m\u001b[1;33m.\u001b[0m\u001b[0msegmentation\u001b[0m \u001b[1;32mimport\u001b[0m \u001b[0mmark_boundaries\u001b[0m\u001b[1;33m\u001b[0m\u001b[1;33m\u001b[0m\u001b[0m\n",
      "\u001b[1;32m~\\anaconda3\\envs\\learn-env\\lib\\site-packages\\lime\\lime_image.py\u001b[0m in \u001b[0;36m<module>\u001b[1;34m\u001b[0m\n\u001b[0;32m     14\u001b[0m \u001b[1;33m\u001b[0m\u001b[0m\n\u001b[0;32m     15\u001b[0m \u001b[1;32mfrom\u001b[0m \u001b[1;33m.\u001b[0m \u001b[1;32mimport\u001b[0m \u001b[0mlime_base\u001b[0m\u001b[1;33m\u001b[0m\u001b[1;33m\u001b[0m\u001b[0m\n\u001b[1;32m---> 16\u001b[1;33m \u001b[1;32mfrom\u001b[0m \u001b[1;33m.\u001b[0m\u001b[0mwrappers\u001b[0m\u001b[1;33m.\u001b[0m\u001b[0mscikit_image\u001b[0m \u001b[1;32mimport\u001b[0m \u001b[0mSegmentationAlgorithm\u001b[0m\u001b[1;33m\u001b[0m\u001b[1;33m\u001b[0m\u001b[0m\n\u001b[0m\u001b[0;32m     17\u001b[0m \u001b[1;33m\u001b[0m\u001b[0m\n\u001b[0;32m     18\u001b[0m \u001b[1;33m\u001b[0m\u001b[0m\n",
      "\u001b[1;32m~\\anaconda3\\envs\\learn-env\\lib\\site-packages\\lime\\wrappers\\scikit_image.py\u001b[0m in \u001b[0;36m<module>\u001b[1;34m\u001b[0m\n\u001b[0;32m      1\u001b[0m \u001b[1;32mimport\u001b[0m \u001b[0mtypes\u001b[0m\u001b[1;33m\u001b[0m\u001b[1;33m\u001b[0m\u001b[0m\n\u001b[0;32m      2\u001b[0m \u001b[1;32mfrom\u001b[0m \u001b[0mlime\u001b[0m\u001b[1;33m.\u001b[0m\u001b[0mutils\u001b[0m\u001b[1;33m.\u001b[0m\u001b[0mgeneric_utils\u001b[0m \u001b[1;32mimport\u001b[0m \u001b[0mhas_arg\u001b[0m\u001b[1;33m\u001b[0m\u001b[1;33m\u001b[0m\u001b[0m\n\u001b[1;32m----> 3\u001b[1;33m \u001b[1;32mfrom\u001b[0m \u001b[0mskimage\u001b[0m\u001b[1;33m.\u001b[0m\u001b[0msegmentation\u001b[0m \u001b[1;32mimport\u001b[0m \u001b[0mfelzenszwalb\u001b[0m\u001b[1;33m,\u001b[0m \u001b[0mslic\u001b[0m\u001b[1;33m,\u001b[0m \u001b[0mquickshift\u001b[0m\u001b[1;33m\u001b[0m\u001b[1;33m\u001b[0m\u001b[0m\n\u001b[0m\u001b[0;32m      4\u001b[0m \u001b[1;33m\u001b[0m\u001b[0m\n\u001b[0;32m      5\u001b[0m \u001b[1;33m\u001b[0m\u001b[0m\n",
      "\u001b[1;32m~\\anaconda3\\envs\\learn-env\\lib\\site-packages\\skimage\\segmentation\\__init__.py\u001b[0m in \u001b[0;36m<module>\u001b[1;34m\u001b[0m\n\u001b[0;32m      1\u001b[0m \u001b[1;32mfrom\u001b[0m \u001b[1;33m.\u001b[0m\u001b[0mrandom_walker_segmentation\u001b[0m \u001b[1;32mimport\u001b[0m \u001b[0mrandom_walker\u001b[0m\u001b[1;33m\u001b[0m\u001b[1;33m\u001b[0m\u001b[0m\n\u001b[1;32m----> 2\u001b[1;33m \u001b[1;32mfrom\u001b[0m \u001b[1;33m.\u001b[0m\u001b[0mactive_contour_model\u001b[0m \u001b[1;32mimport\u001b[0m \u001b[0mactive_contour\u001b[0m\u001b[1;33m\u001b[0m\u001b[1;33m\u001b[0m\u001b[0m\n\u001b[0m\u001b[0;32m      3\u001b[0m \u001b[1;32mfrom\u001b[0m \u001b[1;33m.\u001b[0m\u001b[0m_felzenszwalb\u001b[0m \u001b[1;32mimport\u001b[0m \u001b[0mfelzenszwalb\u001b[0m\u001b[1;33m\u001b[0m\u001b[1;33m\u001b[0m\u001b[0m\n\u001b[0;32m      4\u001b[0m \u001b[1;32mfrom\u001b[0m \u001b[1;33m.\u001b[0m\u001b[0mslic_superpixels\u001b[0m \u001b[1;32mimport\u001b[0m \u001b[0mslic\u001b[0m\u001b[1;33m\u001b[0m\u001b[1;33m\u001b[0m\u001b[0m\n\u001b[0;32m      5\u001b[0m \u001b[1;32mfrom\u001b[0m \u001b[1;33m.\u001b[0m\u001b[0m_quickshift\u001b[0m \u001b[1;32mimport\u001b[0m \u001b[0mquickshift\u001b[0m\u001b[1;33m\u001b[0m\u001b[1;33m\u001b[0m\u001b[0m\n",
      "\u001b[1;32m~\\anaconda3\\envs\\learn-env\\lib\\site-packages\\skimage\\segmentation\\active_contour_model.py\u001b[0m in \u001b[0;36m<module>\u001b[1;34m\u001b[0m\n\u001b[0;32m      3\u001b[0m \u001b[1;32mfrom\u001b[0m \u001b[0mscipy\u001b[0m\u001b[1;33m.\u001b[0m\u001b[0minterpolate\u001b[0m \u001b[1;32mimport\u001b[0m \u001b[0mRectBivariateSpline\u001b[0m\u001b[1;33m\u001b[0m\u001b[1;33m\u001b[0m\u001b[0m\n\u001b[0;32m      4\u001b[0m \u001b[1;32mfrom\u001b[0m \u001b[1;33m.\u001b[0m\u001b[1;33m.\u001b[0m\u001b[0mutil\u001b[0m \u001b[1;32mimport\u001b[0m \u001b[0mimg_as_float\u001b[0m\u001b[1;33m\u001b[0m\u001b[1;33m\u001b[0m\u001b[0m\n\u001b[1;32m----> 5\u001b[1;33m \u001b[1;32mfrom\u001b[0m \u001b[1;33m.\u001b[0m\u001b[1;33m.\u001b[0m\u001b[0mfilters\u001b[0m \u001b[1;32mimport\u001b[0m \u001b[0msobel\u001b[0m\u001b[1;33m\u001b[0m\u001b[1;33m\u001b[0m\u001b[0m\n\u001b[0m\u001b[0;32m      6\u001b[0m \u001b[1;33m\u001b[0m\u001b[0m\n\u001b[0;32m      7\u001b[0m \u001b[1;33m\u001b[0m\u001b[0m\n",
      "\u001b[1;32m~\\anaconda3\\envs\\learn-env\\lib\\site-packages\\skimage\\filters\\__init__.py\u001b[0m in \u001b[0;36m<module>\u001b[1;34m\u001b[0m\n\u001b[0;32m      2\u001b[0m from ._gaussian import (gaussian, _guess_spatial_dimensions,\n\u001b[0;32m      3\u001b[0m                         difference_of_gaussians)\n\u001b[1;32m----> 4\u001b[1;33m from .edges import (sobel, sobel_h, sobel_v,\n\u001b[0m\u001b[0;32m      5\u001b[0m                     \u001b[0mscharr\u001b[0m\u001b[1;33m,\u001b[0m \u001b[0mscharr_h\u001b[0m\u001b[1;33m,\u001b[0m \u001b[0mscharr_v\u001b[0m\u001b[1;33m,\u001b[0m\u001b[1;33m\u001b[0m\u001b[1;33m\u001b[0m\u001b[0m\n\u001b[0;32m      6\u001b[0m                     \u001b[0mprewitt\u001b[0m\u001b[1;33m,\u001b[0m \u001b[0mprewitt_h\u001b[0m\u001b[1;33m,\u001b[0m \u001b[0mprewitt_v\u001b[0m\u001b[1;33m,\u001b[0m\u001b[1;33m\u001b[0m\u001b[1;33m\u001b[0m\u001b[0m\n",
      "\u001b[1;32m~\\anaconda3\\envs\\learn-env\\lib\\site-packages\\skimage\\filters\\edges.py\u001b[0m in \u001b[0;36m<module>\u001b[1;34m\u001b[0m\n\u001b[0;32m     16\u001b[0m \u001b[1;32mfrom\u001b[0m \u001b[0mscipy\u001b[0m\u001b[1;33m.\u001b[0m\u001b[0mndimage\u001b[0m \u001b[1;32mimport\u001b[0m \u001b[0mconvolve\u001b[0m\u001b[1;33m,\u001b[0m \u001b[0mbinary_erosion\u001b[0m\u001b[1;33m\u001b[0m\u001b[1;33m\u001b[0m\u001b[0m\n\u001b[0;32m     17\u001b[0m \u001b[1;33m\u001b[0m\u001b[0m\n\u001b[1;32m---> 18\u001b[1;33m \u001b[1;32mfrom\u001b[0m \u001b[1;33m.\u001b[0m\u001b[1;33m.\u001b[0m\u001b[0mrestoration\u001b[0m\u001b[1;33m.\u001b[0m\u001b[0muft\u001b[0m \u001b[1;32mimport\u001b[0m \u001b[0mlaplacian\u001b[0m\u001b[1;33m\u001b[0m\u001b[1;33m\u001b[0m\u001b[0m\n\u001b[0m\u001b[0;32m     19\u001b[0m \u001b[1;33m\u001b[0m\u001b[0m\n\u001b[0;32m     20\u001b[0m \u001b[1;31m# n-dimensional filter weights\u001b[0m\u001b[1;33m\u001b[0m\u001b[1;33m\u001b[0m\u001b[1;33m\u001b[0m\u001b[0m\n",
      "\u001b[1;32m~\\anaconda3\\envs\\learn-env\\lib\\site-packages\\skimage\\restoration\\__init__.py\u001b[0m in \u001b[0;36m<module>\u001b[1;34m\u001b[0m\n\u001b[0;32m      9\u001b[0m \u001b[1;32mfrom\u001b[0m \u001b[1;33m.\u001b[0m\u001b[0m_cycle_spin\u001b[0m \u001b[1;32mimport\u001b[0m \u001b[0mcycle_spin\u001b[0m\u001b[1;33m\u001b[0m\u001b[1;33m\u001b[0m\u001b[0m\n\u001b[0;32m     10\u001b[0m \u001b[1;32mfrom\u001b[0m \u001b[1;33m.\u001b[0m\u001b[0mnon_local_means\u001b[0m \u001b[1;32mimport\u001b[0m \u001b[0mdenoise_nl_means\u001b[0m\u001b[1;33m\u001b[0m\u001b[1;33m\u001b[0m\u001b[0m\n\u001b[1;32m---> 11\u001b[1;33m \u001b[1;32mfrom\u001b[0m \u001b[1;33m.\u001b[0m\u001b[0minpaint\u001b[0m \u001b[1;32mimport\u001b[0m \u001b[0minpaint_biharmonic\u001b[0m\u001b[1;33m\u001b[0m\u001b[1;33m\u001b[0m\u001b[0m\n\u001b[0m\u001b[0;32m     12\u001b[0m \u001b[1;32mfrom\u001b[0m \u001b[1;33m.\u001b[0m\u001b[0mj_invariant\u001b[0m \u001b[1;32mimport\u001b[0m \u001b[0mcalibrate_denoiser\u001b[0m\u001b[1;33m\u001b[0m\u001b[1;33m\u001b[0m\u001b[0m\n\u001b[0;32m     13\u001b[0m \u001b[1;33m\u001b[0m\u001b[0m\n",
      "\u001b[1;32m~\\anaconda3\\envs\\learn-env\\lib\\site-packages\\skimage\\restoration\\inpaint.py\u001b[0m in \u001b[0;36m<module>\u001b[1;34m\u001b[0m\n\u001b[0;32m      6\u001b[0m \u001b[1;32mfrom\u001b[0m \u001b[0mscipy\u001b[0m\u001b[1;33m.\u001b[0m\u001b[0mndimage\u001b[0m\u001b[1;33m.\u001b[0m\u001b[0mfilters\u001b[0m \u001b[1;32mimport\u001b[0m \u001b[0mlaplace\u001b[0m\u001b[1;33m\u001b[0m\u001b[1;33m\u001b[0m\u001b[0m\n\u001b[0;32m      7\u001b[0m \u001b[1;32mimport\u001b[0m \u001b[0mskimage\u001b[0m\u001b[1;33m\u001b[0m\u001b[1;33m\u001b[0m\u001b[0m\n\u001b[1;32m----> 8\u001b[1;33m \u001b[1;32mfrom\u001b[0m \u001b[1;33m.\u001b[0m\u001b[1;33m.\u001b[0m\u001b[0mmeasure\u001b[0m \u001b[1;32mimport\u001b[0m \u001b[0mlabel\u001b[0m\u001b[1;33m\u001b[0m\u001b[1;33m\u001b[0m\u001b[0m\n\u001b[0m\u001b[0;32m      9\u001b[0m \u001b[1;33m\u001b[0m\u001b[0m\n\u001b[0;32m     10\u001b[0m \u001b[1;33m\u001b[0m\u001b[0m\n",
      "\u001b[1;32m~\\anaconda3\\envs\\learn-env\\lib\\site-packages\\skimage\\measure\\__init__.py\u001b[0m in \u001b[0;36m<module>\u001b[1;34m\u001b[0m\n\u001b[0;32m      4\u001b[0m                                       mesh_surface_area)\n\u001b[0;32m      5\u001b[0m \u001b[1;32mfrom\u001b[0m \u001b[1;33m.\u001b[0m\u001b[0m_regionprops\u001b[0m \u001b[1;32mimport\u001b[0m \u001b[0mregionprops\u001b[0m\u001b[1;33m,\u001b[0m \u001b[0mperimeter\u001b[0m\u001b[1;33m,\u001b[0m \u001b[0mregionprops_table\u001b[0m\u001b[1;33m\u001b[0m\u001b[1;33m\u001b[0m\u001b[0m\n\u001b[1;32m----> 6\u001b[1;33m \u001b[1;32mfrom\u001b[0m \u001b[1;33m.\u001b[0m\u001b[0msimple_metrics\u001b[0m \u001b[1;32mimport\u001b[0m \u001b[0mcompare_mse\u001b[0m\u001b[1;33m,\u001b[0m \u001b[0mcompare_nrmse\u001b[0m\u001b[1;33m,\u001b[0m \u001b[0mcompare_psnr\u001b[0m\u001b[1;33m\u001b[0m\u001b[1;33m\u001b[0m\u001b[0m\n\u001b[0m\u001b[0;32m      7\u001b[0m \u001b[1;32mfrom\u001b[0m \u001b[1;33m.\u001b[0m\u001b[0m_structural_similarity\u001b[0m \u001b[1;32mimport\u001b[0m \u001b[0mcompare_ssim\u001b[0m\u001b[1;33m\u001b[0m\u001b[1;33m\u001b[0m\u001b[0m\n\u001b[0;32m      8\u001b[0m \u001b[1;32mfrom\u001b[0m \u001b[1;33m.\u001b[0m\u001b[0m_polygon\u001b[0m \u001b[1;32mimport\u001b[0m \u001b[0mapproximate_polygon\u001b[0m\u001b[1;33m,\u001b[0m \u001b[0msubdivide_polygon\u001b[0m\u001b[1;33m\u001b[0m\u001b[1;33m\u001b[0m\u001b[0m\n",
      "\u001b[1;32m~\\anaconda3\\envs\\learn-env\\lib\\site-packages\\skimage\\measure\\simple_metrics.py\u001b[0m in \u001b[0;36m<module>\u001b[1;34m\u001b[0m\n\u001b[0;32m      1\u001b[0m \u001b[1;32mfrom\u001b[0m \u001b[0mwarnings\u001b[0m \u001b[1;32mimport\u001b[0m \u001b[0mwarn\u001b[0m\u001b[1;33m\u001b[0m\u001b[1;33m\u001b[0m\u001b[0m\n\u001b[1;32m----> 2\u001b[1;33m from ..metrics.simple_metrics import (mean_squared_error,\n\u001b[0m\u001b[0;32m      3\u001b[0m                                        \u001b[0mpeak_signal_noise_ratio\u001b[0m\u001b[1;33m,\u001b[0m\u001b[1;33m\u001b[0m\u001b[1;33m\u001b[0m\u001b[0m\n\u001b[0;32m      4\u001b[0m                                        normalized_root_mse)\n\u001b[0;32m      5\u001b[0m \u001b[1;33m\u001b[0m\u001b[0m\n",
      "\u001b[1;32m~\\anaconda3\\envs\\learn-env\\lib\\importlib\\_bootstrap.py\u001b[0m in \u001b[0;36m_find_and_load\u001b[1;34m(name, import_)\u001b[0m\n",
      "\u001b[1;32m~\\anaconda3\\envs\\learn-env\\lib\\importlib\\_bootstrap.py\u001b[0m in \u001b[0;36m_find_and_load_unlocked\u001b[1;34m(name, import_)\u001b[0m\n",
      "\u001b[1;32m~\\anaconda3\\envs\\learn-env\\lib\\importlib\\_bootstrap.py\u001b[0m in \u001b[0;36m_load_unlocked\u001b[1;34m(spec)\u001b[0m\n",
      "\u001b[1;32m~\\anaconda3\\envs\\learn-env\\lib\\importlib\\_bootstrap_external.py\u001b[0m in \u001b[0;36mexec_module\u001b[1;34m(self, module)\u001b[0m\n",
      "\u001b[1;32m~\\anaconda3\\envs\\learn-env\\lib\\importlib\\_bootstrap_external.py\u001b[0m in \u001b[0;36mget_code\u001b[1;34m(self, fullname)\u001b[0m\n",
      "\u001b[1;32m~\\anaconda3\\envs\\learn-env\\lib\\importlib\\_bootstrap_external.py\u001b[0m in \u001b[0;36mget_data\u001b[1;34m(self, path)\u001b[0m\n",
      "\u001b[1;31mKeyboardInterrupt\u001b[0m: "
     ]
    }
   ],
   "source": [
    "from lime import lime_image\n",
    "from skimage.segmentation import mark_boundaries"
   ]
  },
  {
   "cell_type": "code",
   "execution_count": null,
   "id": "fdba68cf-2599-453e-b13e-c33e940721fd",
   "metadata": {
    "execution": {
     "iopub.status.busy": "2021-08-12T14:17:16.544762Z",
     "iopub.status.idle": "2021-08-12T14:17:16.544762Z",
     "shell.execute_reply": "2021-08-12T14:17:16.544762Z"
    },
    "tags": []
   },
   "outputs": [],
   "source": [
    "def image_expl(model,image_array):\n",
    "    '''\n",
    "    Takes a model, single image array, name string of the model, and the true label of the image.\n",
    "    Uses LIME to get an image explainer and plots the image and explaination.\n",
    "    '''\n",
    "    \n",
    "    fig, ax = plt.subplots()\n",
    "    #instantiate explainer\n",
    "    explainer = lime_image.LimeImageExplainer(random_state=1)\n",
    "    #explain an image caste to double bc updated keras version, pass predictor \n",
    "    explanation = explainer.explain_instance(image_array[0].astype('double'), model.predict)\n",
    "    #show the image\n",
    "    ax = plt.imshow(image_array[0])\n",
    "    #get the mask for the prediction\n",
    "    temp, mask = explanation.get_image_and_mask(model.predict(image_array.reshape((1,75,75,3))).argmax(axis=1)[0], positive_only=False, hide_rest=False)\n",
    "    #show image and mask together\n",
    "    ax = plt.imshow(mark_boundaries(temp, mask))\n",
    "    plt.axis(\"off\")\n",
    "    \n",
    "    ax = plt.title(\"It works!\")"
   ]
  },
  {
   "cell_type": "code",
   "execution_count": null,
   "id": "9bebd2a6-80a9-4b0e-bd5f-819a2036bfc7",
   "metadata": {
    "execution": {
     "iopub.status.busy": "2021-08-12T14:17:16.546756Z",
     "iopub.status.idle": "2021-08-12T14:17:16.547754Z",
     "shell.execute_reply": "2021-08-12T14:17:16.546756Z"
    },
    "tags": []
   },
   "outputs": [],
   "source": [
    "image_expl(model, image_cc)"
   ]
  },
  {
   "cell_type": "code",
   "execution_count": null,
   "id": "cfe05410-e2b6-4ab2-b5aa-071c8c9798bb",
   "metadata": {},
   "outputs": [],
   "source": []
  }
 ],
 "metadata": {
  "kernelspec": {
   "display_name": "learn-env",
   "language": "python",
   "name": "learn-env"
  },
  "language_info": {
   "codemirror_mode": {
    "name": "ipython",
    "version": 3
   },
   "file_extension": ".py",
   "mimetype": "text/x-python",
   "name": "python",
   "nbconvert_exporter": "python",
   "pygments_lexer": "ipython3",
   "version": "3.8.5"
  }
 },
 "nbformat": 4,
 "nbformat_minor": 5
}
