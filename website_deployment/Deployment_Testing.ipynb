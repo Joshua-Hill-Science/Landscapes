{
 "cells": [
  {
   "cell_type": "code",
   "execution_count": 1,
   "id": "8aa2d36f-8588-48e4-a9d2-7cbf515b3c4c",
   "metadata": {
    "execution": {
     "iopub.execute_input": "2021-08-11T20:24:48.115907Z",
     "iopub.status.busy": "2021-08-11T20:24:48.115907Z",
     "iopub.status.idle": "2021-08-11T20:24:52.477688Z",
     "shell.execute_reply": "2021-08-11T20:24:52.477688Z",
     "shell.execute_reply.started": "2021-08-11T20:24:48.115907Z"
    },
    "tags": []
   },
   "outputs": [],
   "source": [
    "import tensorflow"
   ]
  },
  {
   "cell_type": "code",
   "execution_count": 2,
   "id": "1d7e1fd0-1036-429b-99e2-6f58eb6c2507",
   "metadata": {
    "execution": {
     "iopub.execute_input": "2021-08-11T20:24:52.477688Z",
     "iopub.status.busy": "2021-08-11T20:24:52.477688Z",
     "iopub.status.idle": "2021-08-11T20:24:52.490625Z",
     "shell.execute_reply": "2021-08-11T20:24:52.490625Z",
     "shell.execute_reply.started": "2021-08-11T20:24:52.477688Z"
    },
    "tags": []
   },
   "outputs": [],
   "source": [
    "import numpy as np"
   ]
  },
  {
   "cell_type": "code",
   "execution_count": 3,
   "id": "8f634b46-7eee-42f5-9132-2b20ac6c4500",
   "metadata": {
    "execution": {
     "iopub.execute_input": "2021-08-11T20:24:52.490625Z",
     "iopub.status.busy": "2021-08-11T20:24:52.490625Z",
     "iopub.status.idle": "2021-08-11T20:25:02.054412Z",
     "shell.execute_reply": "2021-08-11T20:25:02.054412Z",
     "shell.execute_reply.started": "2021-08-11T20:24:52.490625Z"
    },
    "tags": []
   },
   "outputs": [],
   "source": [
    "import matplotlib.pyplot as plt\n",
    "import seaborn as sns\n",
    "import matplotlib.patches as mpatches"
   ]
  },
  {
   "cell_type": "code",
   "execution_count": 4,
   "id": "0f3ee694-a2c1-4e87-8223-49a98f8c209e",
   "metadata": {
    "execution": {
     "iopub.execute_input": "2021-08-11T20:25:02.054412Z",
     "iopub.status.busy": "2021-08-11T20:25:02.054412Z",
     "iopub.status.idle": "2021-08-11T20:25:02.934128Z",
     "shell.execute_reply": "2021-08-11T20:25:02.934128Z",
     "shell.execute_reply.started": "2021-08-11T20:25:02.054412Z"
    },
    "tags": []
   },
   "outputs": [],
   "source": [
    "import cv2"
   ]
  },
  {
   "cell_type": "code",
   "execution_count": 5,
   "id": "a4aac53a-cef4-455f-be9c-0fc038b77fea",
   "metadata": {
    "execution": {
     "iopub.execute_input": "2021-08-11T20:25:02.934128Z",
     "iopub.status.busy": "2021-08-11T20:25:02.934128Z",
     "iopub.status.idle": "2021-08-11T20:25:08.750831Z",
     "shell.execute_reply": "2021-08-11T20:25:08.750831Z",
     "shell.execute_reply.started": "2021-08-11T20:25:02.934128Z"
    },
    "tags": []
   },
   "outputs": [],
   "source": [
    "from sklearn.cluster import MiniBatchKMeans"
   ]
  },
  {
   "cell_type": "code",
   "execution_count": 6,
   "id": "05964780-8fac-44b7-b6bd-166817232a56",
   "metadata": {
    "execution": {
     "iopub.execute_input": "2021-08-11T20:25:08.750831Z",
     "iopub.status.busy": "2021-08-11T20:25:08.750831Z",
     "iopub.status.idle": "2021-08-11T20:25:08.764352Z",
     "shell.execute_reply": "2021-08-11T20:25:08.764352Z",
     "shell.execute_reply.started": "2021-08-11T20:25:08.750831Z"
    },
    "tags": []
   },
   "outputs": [],
   "source": [
    "class_names = ['mountain', 'street', 'glacier', 'buildings', 'sea', 'forest']"
   ]
  },
  {
   "cell_type": "code",
   "execution_count": 7,
   "id": "99fa0b86-0468-4712-a7d7-40b0cab89693",
   "metadata": {
    "execution": {
     "iopub.execute_input": "2021-08-11T20:25:08.772343Z",
     "iopub.status.busy": "2021-08-11T20:25:08.772343Z",
     "iopub.status.idle": "2021-08-11T20:25:12.145592Z",
     "shell.execute_reply": "2021-08-11T20:25:12.145592Z",
     "shell.execute_reply.started": "2021-08-11T20:25:08.772343Z"
    },
    "tags": []
   },
   "outputs": [],
   "source": [
    "model = tensorflow.keras.models.load_model(\"Models/3rd-color_comp_model.h5\")"
   ]
  },
  {
   "cell_type": "code",
   "execution_count": 126,
   "id": "5b11d9f2-7930-44ed-a8a7-0a3fe7a6f808",
   "metadata": {
    "execution": {
     "iopub.execute_input": "2021-08-11T21:46:45.596241Z",
     "iopub.status.busy": "2021-08-11T21:46:45.595253Z",
     "iopub.status.idle": "2021-08-11T21:46:45.611207Z",
     "shell.execute_reply": "2021-08-11T21:46:45.610231Z",
     "shell.execute_reply.started": "2021-08-11T21:46:45.596241Z"
    },
    "tags": []
   },
   "outputs": [],
   "source": [
    "image = tensorflow.keras.preprocessing.image.load_img(\"Sample_Pictures/Sea_Image.jpg\")"
   ]
  },
  {
   "cell_type": "code",
   "execution_count": 127,
   "id": "ad98c8bc-934a-4d6b-ad64-0e0523621fb7",
   "metadata": {
    "execution": {
     "iopub.execute_input": "2021-08-11T21:46:46.246272Z",
     "iopub.status.busy": "2021-08-11T21:46:46.246272Z",
     "iopub.status.idle": "2021-08-11T21:46:46.261203Z",
     "shell.execute_reply": "2021-08-11T21:46:46.260209Z",
     "shell.execute_reply.started": "2021-08-11T21:46:46.246272Z"
    },
    "tags": []
   },
   "outputs": [],
   "source": [
    "def color_compress_KNN(image, KNN=4):\n",
    "    import warnings; warnings.simplefilter('ignore') \n",
    "    Kmeans_images = []\n",
    "    rescaled_image = np.array(image) / 255.0 # use 0...1 scale\n",
    "    preprocessed_image = rescaled_image.reshape(150 * 150, 3)\n",
    "    kmeans = MiniBatchKMeans(KNN)\n",
    "    kmeans.fit(preprocessed_image)\n",
    "    new_colors = kmeans.cluster_centers_[kmeans.predict(preprocessed_image)]\n",
    "    color_compressed_image = new_colors.reshape(np.array(image).shape)\n",
    "    reshaped_cci = cv2.resize(color_compressed_image, (75,75)).reshape(1,75,75,3)\n",
    "    return reshaped_cci"
   ]
  },
  {
   "cell_type": "code",
   "execution_count": 128,
   "id": "9f90cf36-cb65-4dd0-897d-4d7cb80f2aef",
   "metadata": {
    "execution": {
     "iopub.execute_input": "2021-08-11T21:46:46.490270Z",
     "iopub.status.busy": "2021-08-11T21:46:46.490270Z",
     "iopub.status.idle": "2021-08-11T21:46:46.632737Z",
     "shell.execute_reply": "2021-08-11T21:46:46.631750Z",
     "shell.execute_reply.started": "2021-08-11T21:46:46.490270Z"
    },
    "tags": []
   },
   "outputs": [
    {
     "data": {
      "text/plain": [
       "(1, 75, 75, 3)"
      ]
     },
     "execution_count": 128,
     "metadata": {},
     "output_type": "execute_result"
    }
   ],
   "source": [
    "image_cc = color_compress_KNN(image)\n",
    "image_cc.shape"
   ]
  },
  {
   "cell_type": "code",
   "execution_count": 129,
   "id": "9487aa65-1671-415d-bd4a-e030fe0a787d",
   "metadata": {
    "execution": {
     "iopub.execute_input": "2021-08-11T21:46:48.810319Z",
     "iopub.status.busy": "2021-08-11T21:46:48.810319Z",
     "iopub.status.idle": "2021-08-11T21:46:49.381131Z",
     "shell.execute_reply": "2021-08-11T21:46:49.380175Z",
     "shell.execute_reply.started": "2021-08-11T21:46:48.810319Z"
    },
    "tags": []
   },
   "outputs": [
    {
     "data": {
      "image/png": "[encoded data removed]",
      "text/plain": [
       "<Figure size 432x288 with 1 Axes>"
      ]
     },
     "metadata": {
      "needs_background": "light"
     },
     "output_type": "display_data"
    }
   ],
   "source": [
    "color_coder=dict(enumerate(model.predict(image_cc)[0],0))\n",
    "fig, ax = plt.subplots()\n",
    "ax =plt.bar([0,1,2,3,4,5], model.predict(image_cc)[0])\n",
    "for i in color_coder:\n",
    "    if color_coder[i] == model.predict(image_cc)[0].max():\n",
    "        ax[i].set_color(\"r\")\n",
    "        Best_guess = mpatches.Patch(color='red', label=round(color_coder[i],2))\n",
    "    else:\n",
    "        ax[i].set_color(\"b\")\n",
    "plt.legend(handles=[Best_guess])\n",
    "ax = plt.xticks(ticks=[0,1,2,3,4,5],labels=class_names)"
   ]
  },
  {
   "cell_type": "code",
   "execution_count": 130,
   "id": "fc959d4b-adba-4ff8-a7f2-edcb04a0a60c",
   "metadata": {
    "execution": {
     "iopub.execute_input": "2021-08-11T21:46:49.750144Z",
     "iopub.status.busy": "2021-08-11T21:46:49.750144Z",
     "iopub.status.idle": "2021-08-11T21:46:49.766829Z",
     "shell.execute_reply": "2021-08-11T21:46:49.765831Z",
     "shell.execute_reply.started": "2021-08-11T21:46:49.750144Z"
    },
    "tags": []
   },
   "outputs": [],
   "source": [
    "def highest(dict_of_confidence):\n",
    "    for i in dict_of_confidence:\n",
    "        if dict_of_confidence[i] == model.predict(image)[0].max():\n",
    "            return round(dict_of_confidence[i],2)"
   ]
  },
  {
   "cell_type": "code",
   "execution_count": 131,
   "id": "dcd81d93-81eb-4741-ad8f-6f96c491a7ea",
   "metadata": {
    "execution": {
     "iopub.execute_input": "2021-08-11T21:46:50.986711Z",
     "iopub.status.busy": "2021-08-11T21:46:50.986711Z",
     "iopub.status.idle": "2021-08-11T21:46:50.998677Z",
     "shell.execute_reply": "2021-08-11T21:46:50.997680Z",
     "shell.execute_reply.started": "2021-08-11T21:46:50.986711Z"
    },
    "tags": []
   },
   "outputs": [],
   "source": [
    "class_titles =[x.title() for x in class_names]"
   ]
  },
  {
   "cell_type": "code",
   "execution_count": 132,
   "id": "08a361ff-4d36-4fdf-8cd5-5da7dd295087",
   "metadata": {
    "execution": {
     "iopub.execute_input": "2021-08-11T21:46:51.346231Z",
     "iopub.status.busy": "2021-08-11T21:46:51.346231Z",
     "iopub.status.idle": "2021-08-11T21:46:51.362188Z",
     "shell.execute_reply": "2021-08-11T21:46:51.361224Z",
     "shell.execute_reply.started": "2021-08-11T21:46:51.346231Z"
    },
    "tags": []
   },
   "outputs": [
    {
     "data": {
      "text/plain": [
       "['Mountain', 'Street', 'Glacier', 'Buildings', 'Sea', 'Forest']"
      ]
     },
     "execution_count": 132,
     "metadata": {},
     "output_type": "execute_result"
    }
   ],
   "source": [
    "class_titles"
   ]
  },
  {
   "cell_type": "code",
   "execution_count": 133,
   "id": "caa45fa1-aa99-467b-93aa-1084059cd98e",
   "metadata": {
    "execution": {
     "iopub.execute_input": "2021-08-11T21:46:51.777294Z",
     "iopub.status.busy": "2021-08-11T21:46:51.776269Z",
     "iopub.status.idle": "2021-08-11T21:46:51.915570Z",
     "shell.execute_reply": "2021-08-11T21:46:51.913545Z",
     "shell.execute_reply.started": "2021-08-11T21:46:51.777294Z"
    },
    "tags": []
   },
   "outputs": [
    {
     "ename": "ValueError",
     "evalue": "Failed to find data adapter that can handle input: <class 'PIL.JpegImagePlugin.JpegImageFile'>, <class 'NoneType'>",
     "output_type": "error",
     "traceback": [
      "\u001b[1;31m---------------------------------------------------------------------------\u001b[0m",
      "\u001b[1;31mValueError\u001b[0m                                Traceback (most recent call last)",
      "\u001b[1;32m<ipython-input-133-1a8301468d22>\u001b[0m in \u001b[0;36m<module>\u001b[1;34m\u001b[0m\n\u001b[1;32m----> 1\u001b[1;33m \u001b[0mhighest\u001b[0m\u001b[1;33m(\u001b[0m\u001b[0mcolor_coder\u001b[0m\u001b[1;33m)\u001b[0m\u001b[1;33m\u001b[0m\u001b[1;33m\u001b[0m\u001b[0m\n\u001b[0m",
      "\u001b[1;32m<ipython-input-130-6bded9074bde>\u001b[0m in \u001b[0;36mhighest\u001b[1;34m(dict_of_confidence)\u001b[0m\n\u001b[0;32m      1\u001b[0m \u001b[1;32mdef\u001b[0m \u001b[0mhighest\u001b[0m\u001b[1;33m(\u001b[0m\u001b[0mdict_of_confidence\u001b[0m\u001b[1;33m)\u001b[0m\u001b[1;33m:\u001b[0m\u001b[1;33m\u001b[0m\u001b[1;33m\u001b[0m\u001b[0m\n\u001b[0;32m      2\u001b[0m     \u001b[1;32mfor\u001b[0m \u001b[0mi\u001b[0m \u001b[1;32min\u001b[0m \u001b[0mdict_of_confidence\u001b[0m\u001b[1;33m:\u001b[0m\u001b[1;33m\u001b[0m\u001b[1;33m\u001b[0m\u001b[0m\n\u001b[1;32m----> 3\u001b[1;33m         \u001b[1;32mif\u001b[0m \u001b[0mdict_of_confidence\u001b[0m\u001b[1;33m[\u001b[0m\u001b[0mi\u001b[0m\u001b[1;33m]\u001b[0m \u001b[1;33m==\u001b[0m \u001b[0mmodel\u001b[0m\u001b[1;33m.\u001b[0m\u001b[0mpredict\u001b[0m\u001b[1;33m(\u001b[0m\u001b[0mimage\u001b[0m\u001b[1;33m)\u001b[0m\u001b[1;33m[\u001b[0m\u001b[1;36m0\u001b[0m\u001b[1;33m]\u001b[0m\u001b[1;33m.\u001b[0m\u001b[0mmax\u001b[0m\u001b[1;33m(\u001b[0m\u001b[1;33m)\u001b[0m\u001b[1;33m:\u001b[0m\u001b[1;33m\u001b[0m\u001b[1;33m\u001b[0m\u001b[0m\n\u001b[0m\u001b[0;32m      4\u001b[0m             \u001b[1;32mreturn\u001b[0m \u001b[0mround\u001b[0m\u001b[1;33m(\u001b[0m\u001b[0mdict_of_confidence\u001b[0m\u001b[1;33m[\u001b[0m\u001b[0mi\u001b[0m\u001b[1;33m]\u001b[0m\u001b[1;33m,\u001b[0m\u001b[1;36m2\u001b[0m\u001b[1;33m)\u001b[0m\u001b[1;33m\u001b[0m\u001b[1;33m\u001b[0m\u001b[0m\n",
      "\u001b[1;32m~\\anaconda3\\envs\\learn-env\\lib\\site-packages\\tensorflow\\python\\keras\\engine\\training.py\u001b[0m in \u001b[0;36m_method_wrapper\u001b[1;34m(self, *args, **kwargs)\u001b[0m\n\u001b[0;32m    128\u001b[0m       raise ValueError('{} is not supported in multi-worker mode.'.format(\n\u001b[0;32m    129\u001b[0m           method.__name__))\n\u001b[1;32m--> 130\u001b[1;33m     \u001b[1;32mreturn\u001b[0m \u001b[0mmethod\u001b[0m\u001b[1;33m(\u001b[0m\u001b[0mself\u001b[0m\u001b[1;33m,\u001b[0m \u001b[1;33m*\u001b[0m\u001b[0margs\u001b[0m\u001b[1;33m,\u001b[0m \u001b[1;33m**\u001b[0m\u001b[0mkwargs\u001b[0m\u001b[1;33m)\u001b[0m\u001b[1;33m\u001b[0m\u001b[1;33m\u001b[0m\u001b[0m\n\u001b[0m\u001b[0;32m    131\u001b[0m \u001b[1;33m\u001b[0m\u001b[0m\n\u001b[0;32m    132\u001b[0m   return tf_decorator.make_decorator(\n",
      "\u001b[1;32m~\\anaconda3\\envs\\learn-env\\lib\\site-packages\\tensorflow\\python\\keras\\engine\\training.py\u001b[0m in \u001b[0;36mpredict\u001b[1;34m(self, x, batch_size, verbose, steps, callbacks, max_queue_size, workers, use_multiprocessing)\u001b[0m\n\u001b[0;32m   1567\u001b[0m     \u001b[1;32mwith\u001b[0m \u001b[0mself\u001b[0m\u001b[1;33m.\u001b[0m\u001b[0mdistribute_strategy\u001b[0m\u001b[1;33m.\u001b[0m\u001b[0mscope\u001b[0m\u001b[1;33m(\u001b[0m\u001b[1;33m)\u001b[0m\u001b[1;33m:\u001b[0m\u001b[1;33m\u001b[0m\u001b[1;33m\u001b[0m\u001b[0m\n\u001b[0;32m   1568\u001b[0m       \u001b[1;31m# Creates a `tf.data.Dataset` and handles batch and epoch iteration.\u001b[0m\u001b[1;33m\u001b[0m\u001b[1;33m\u001b[0m\u001b[1;33m\u001b[0m\u001b[0m\n\u001b[1;32m-> 1569\u001b[1;33m       data_handler = data_adapter.DataHandler(\n\u001b[0m\u001b[0;32m   1570\u001b[0m           \u001b[0mx\u001b[0m\u001b[1;33m=\u001b[0m\u001b[0mx\u001b[0m\u001b[1;33m,\u001b[0m\u001b[1;33m\u001b[0m\u001b[1;33m\u001b[0m\u001b[0m\n\u001b[0;32m   1571\u001b[0m           \u001b[0mbatch_size\u001b[0m\u001b[1;33m=\u001b[0m\u001b[0mbatch_size\u001b[0m\u001b[1;33m,\u001b[0m\u001b[1;33m\u001b[0m\u001b[1;33m\u001b[0m\u001b[0m\n",
      "\u001b[1;32m~\\anaconda3\\envs\\learn-env\\lib\\site-packages\\tensorflow\\python\\keras\\engine\\data_adapter.py\u001b[0m in \u001b[0;36m__init__\u001b[1;34m(self, x, y, sample_weight, batch_size, steps_per_epoch, initial_epoch, epochs, shuffle, class_weight, max_queue_size, workers, use_multiprocessing, model, steps_per_execution)\u001b[0m\n\u001b[0;32m   1102\u001b[0m       \u001b[0mself\u001b[0m\u001b[1;33m.\u001b[0m\u001b[0m_steps_per_execution_value\u001b[0m \u001b[1;33m=\u001b[0m \u001b[0msteps_per_execution\u001b[0m\u001b[1;33m.\u001b[0m\u001b[0mnumpy\u001b[0m\u001b[1;33m(\u001b[0m\u001b[1;33m)\u001b[0m\u001b[1;33m.\u001b[0m\u001b[0mitem\u001b[0m\u001b[1;33m(\u001b[0m\u001b[1;33m)\u001b[0m\u001b[1;33m\u001b[0m\u001b[1;33m\u001b[0m\u001b[0m\n\u001b[0;32m   1103\u001b[0m \u001b[1;33m\u001b[0m\u001b[0m\n\u001b[1;32m-> 1104\u001b[1;33m     \u001b[0madapter_cls\u001b[0m \u001b[1;33m=\u001b[0m \u001b[0mselect_data_adapter\u001b[0m\u001b[1;33m(\u001b[0m\u001b[0mx\u001b[0m\u001b[1;33m,\u001b[0m \u001b[0my\u001b[0m\u001b[1;33m)\u001b[0m\u001b[1;33m\u001b[0m\u001b[1;33m\u001b[0m\u001b[0m\n\u001b[0m\u001b[0;32m   1105\u001b[0m     self._adapter = adapter_cls(\n\u001b[0;32m   1106\u001b[0m         \u001b[0mx\u001b[0m\u001b[1;33m,\u001b[0m\u001b[1;33m\u001b[0m\u001b[1;33m\u001b[0m\u001b[0m\n",
      "\u001b[1;32m~\\anaconda3\\envs\\learn-env\\lib\\site-packages\\tensorflow\\python\\keras\\engine\\data_adapter.py\u001b[0m in \u001b[0;36mselect_data_adapter\u001b[1;34m(x, y)\u001b[0m\n\u001b[0;32m    966\u001b[0m   \u001b[1;32mif\u001b[0m \u001b[1;32mnot\u001b[0m \u001b[0madapter_cls\u001b[0m\u001b[1;33m:\u001b[0m\u001b[1;33m\u001b[0m\u001b[1;33m\u001b[0m\u001b[0m\n\u001b[0;32m    967\u001b[0m     \u001b[1;31m# TODO(scottzhu): This should be a less implementation-specific error.\u001b[0m\u001b[1;33m\u001b[0m\u001b[1;33m\u001b[0m\u001b[1;33m\u001b[0m\u001b[0m\n\u001b[1;32m--> 968\u001b[1;33m     raise ValueError(\n\u001b[0m\u001b[0;32m    969\u001b[0m         \u001b[1;34m\"Failed to find data adapter that can handle \"\u001b[0m\u001b[1;33m\u001b[0m\u001b[1;33m\u001b[0m\u001b[0m\n\u001b[0;32m    970\u001b[0m         \"input: {}, {}\".format(\n",
      "\u001b[1;31mValueError\u001b[0m: Failed to find data adapter that can handle input: <class 'PIL.JpegImagePlugin.JpegImageFile'>, <class 'NoneType'>"
     ]
    }
   ],
   "source": [
    "highest(color_coder)"
   ]
  },
  {
   "cell_type": "code",
   "execution_count": 134,
   "id": "733232e8-2d8a-4876-bcfd-c7905ccfdc96",
   "metadata": {
    "execution": {
     "iopub.execute_input": "2021-08-11T21:46:52.421127Z",
     "iopub.status.busy": "2021-08-11T21:46:52.421127Z",
     "iopub.status.idle": "2021-08-11T21:46:52.930195Z",
     "shell.execute_reply": "2021-08-11T21:46:52.928213Z",
     "shell.execute_reply.started": "2021-08-11T21:46:52.421127Z"
    },
    "tags": []
   },
   "outputs": [
    {
     "data": {
      "image/png": "[encoded data removed]",
      "text/plain": [
       "<Figure size 432x288 with 1 Axes>"
      ]
     },
     "metadata": {},
     "output_type": "display_data"
    }
   ],
   "source": [
    "fig, ax = plt.subplots(subplot_kw=dict(aspect=\"equal\"))\n",
    "recipe = color_coder\n",
    "data = color_coder.values()\n",
    "wedges, texts = plt.pie(color_coder.values(), wedgeprops=dict(width=0.5), startangle=-40)\n",
    "bbox_props = dict(boxstyle=\"square,pad=0.3\", fc=\"w\", ec=\"k\", lw=0.72)\n",
    "kw = dict(arrowprops=dict(arrowstyle=\"-\"), bbox=bbox_props, zorder=0, va=\"center\")\n",
    "\n",
    "ax.legend(wedges, class_names,title=\"Classes\")\n",
    "for i, p in enumerate(wedges):\n",
    "    ang = (p.theta2 - p.theta1)/2. + p.theta1\n",
    "    y = np.sin(np.deg2rad(ang))\n",
    "    x = np.cos(np.deg2rad(ang))\n",
    "    horizontalalignment = {-1: \"right\", 1: \"left\"}[int(np.sign(x))]\n",
    "    connectionstyle = \"angle,angleA=0,angleB={}\".format(ang)\n",
    "    kw[\"arrowprops\"].update({\"connectionstyle\": connectionstyle})\n",
    "    ax.annotate(round(color_coder[i],2), xy=(x, y), xytext=(1.35*np.sign(x), 1.4*y),\n",
    "                horizontalalignment=horizontalalignment, **kw)\n",
    "ax.set_title(\"Model's Confidence as a Pie Chart\")\n",
    "plt.show()"
   ]
  },
  {
   "cell_type": "code",
   "execution_count": 135,
   "id": "7d31b0fe-abe9-4f8f-9448-6050de2f322c",
   "metadata": {
    "execution": {
     "iopub.execute_input": "2021-08-11T21:46:53.560970Z",
     "iopub.status.busy": "2021-08-11T21:46:53.559968Z",
     "iopub.status.idle": "2021-08-11T21:46:53.758286Z",
     "shell.execute_reply": "2021-08-11T21:46:53.758286Z",
     "shell.execute_reply.started": "2021-08-11T21:46:53.560970Z"
    },
    "tags": []
   },
   "outputs": [
    {
     "data": {
      "image/png": "[encoded data removed]",
      "text/plain": [
       "<Figure size 432x288 with 1 Axes>"
      ]
     },
     "metadata": {
      "needs_background": "light"
     },
     "output_type": "display_data"
    }
   ],
   "source": [
    "# creating an empty chart\n",
    "fig, ax = plt.subplots()\n",
    "  \n",
    "# plotting using plt.stem\n",
    "ax = plt.stem([0,1,2,3,4,5], model.predict(image_cc)[0])\n",
    "plt.title(\"Model's Confidence as a Lollipop Chart\")\n",
    "plt.ylabel(\"Model Confidence\")\n",
    "plt.xlabel(\"Classes\")\n",
    "ax = plt.xticks(ticks=[0,1,2,3,4,5],labels=[x.title() for x in class_names])"
   ]
  },
  {
   "cell_type": "code",
   "execution_count": 136,
   "id": "faa6464a-2552-4675-b632-02887b1c06d0",
   "metadata": {
    "execution": {
     "iopub.execute_input": "2021-08-11T21:46:55.509149Z",
     "iopub.status.busy": "2021-08-11T21:46:55.508151Z",
     "iopub.status.idle": "2021-08-11T21:46:55.528097Z",
     "shell.execute_reply": "2021-08-11T21:46:55.527144Z",
     "shell.execute_reply.started": "2021-08-11T21:46:55.509149Z"
    },
    "tags": []
   },
   "outputs": [],
   "source": [
    "image = image_cc"
   ]
  },
  {
   "cell_type": "code",
   "execution_count": 137,
   "id": "29e81a3b-d13c-4dd0-800a-892b126ae42f",
   "metadata": {
    "execution": {
     "iopub.execute_input": "2021-08-11T21:46:56.291117Z",
     "iopub.status.busy": "2021-08-11T21:46:56.291117Z",
     "iopub.status.idle": "2021-08-11T21:46:56.311063Z",
     "shell.execute_reply": "2021-08-11T21:46:56.310103Z",
     "shell.execute_reply.started": "2021-08-11T21:46:56.291117Z"
    },
    "tags": []
   },
   "outputs": [
    {
     "data": {
      "text/plain": [
       "{0: 0.016633274,\n",
       " 1: 2.4022711e-05,\n",
       " 2: 0.026856981,\n",
       " 3: 0.013197136,\n",
       " 4: 0.9375005,\n",
       " 5: 0.005788077}"
      ]
     },
     "execution_count": 137,
     "metadata": {},
     "output_type": "execute_result"
    }
   ],
   "source": [
    "color_coder"
   ]
  },
  {
   "cell_type": "code",
   "execution_count": 138,
   "id": "e5770eda-49ca-4802-b53e-e23ae8fd0aa1",
   "metadata": {
    "execution": {
     "iopub.execute_input": "2021-08-11T21:46:57.252175Z",
     "iopub.status.busy": "2021-08-11T21:46:57.252175Z",
     "iopub.status.idle": "2021-08-11T21:46:57.329631Z",
     "shell.execute_reply": "2021-08-11T21:46:57.328679Z",
     "shell.execute_reply.started": "2021-08-11T21:46:57.252175Z"
    },
    "tags": []
   },
   "outputs": [
    {
     "data": {
      "text/plain": [
       "0.005788077"
      ]
     },
     "execution_count": 138,
     "metadata": {},
     "output_type": "execute_result"
    }
   ],
   "source": [
    "model.predict(image)[0][5]\n"
   ]
  },
  {
   "cell_type": "code",
   "execution_count": 176,
   "id": "d19da1f1-14d4-4fb2-9226-daef0c58d12c",
   "metadata": {
    "execution": {
     "iopub.execute_input": "2021-08-11T22:04:09.390638Z",
     "iopub.status.busy": "2021-08-11T22:04:09.389640Z",
     "iopub.status.idle": "2021-08-11T22:04:09.939336Z",
     "shell.execute_reply": "2021-08-11T22:04:09.937277Z",
     "shell.execute_reply.started": "2021-08-11T22:04:09.389640Z"
    },
    "tags": []
   },
   "outputs": [
    {
     "data": {
      "image/png": "[encoded data removed]",
      "text/plain": [
       "<Figure size 432x288 with 1 Axes>"
      ]
     },
     "metadata": {
      "needs_background": "light"
     },
     "output_type": "display_data"
    }
   ],
   "source": [
    "fig= plt.figure()\n",
    "ax1=fig.add_subplot(111)\n",
    "ax1.scatter([0,1,2,3,4,5], model.predict(image)[0])\n",
    "for i in color_coder:\n",
    "    if color_coder[i] == model.predict(image)[0].max():\n",
    "        ax1.scatter([i], model.predict(image)[0][i], c ='r')\n",
    "ax1= plt.xticks(ticks=[0,1,2,3,4,5],labels=[x.title() for x in class_names])"
   ]
  },
  {
   "cell_type": "code",
   "execution_count": 31,
   "id": "199f50d0-f1a3-4e57-ae03-316455f5d9d7",
   "metadata": {
    "execution": {
     "iopub.execute_input": "2021-08-11T20:28:41.900982Z",
     "iopub.status.busy": "2021-08-11T20:28:41.900982Z",
     "iopub.status.idle": "2021-08-11T20:28:41.924966Z",
     "shell.execute_reply": "2021-08-11T20:28:41.924966Z",
     "shell.execute_reply.started": "2021-08-11T20:28:41.900982Z"
    },
    "tags": []
   },
   "outputs": [],
   "source": [
    "def pick_a_graph(model, image, graph_type=\"bar\"):\n",
    "    if graph_type == \"bar\":\n",
    "        color_coder=dict(enumerate(model.predict(image_cc)[0],0))\n",
    "        fig_bar, ax = plt.subplots(figsize=(15,10))\n",
    "        ax = plt.bar([0,1,2,3,4,5], model.predict(image_cc)[0])\n",
    "        for i in color_coder:\n",
    "            if color_coder[i] == model.predict(image_cc)[0].max():\n",
    "                ax[i].set_color(\"r\")\n",
    "                Best_guess = mpatches.Patch(color='red', label=round(color_coder[i],2))\n",
    "            else:\n",
    "                ax[i].set_color(\"b\")\n",
    "        plt.legend(handles=[Best_guess])\n",
    "        plt.title(\"Model's Confidence as a Bar Chart\")\n",
    "        plt.ylabel(\"Model Confidence\")\n",
    "        plt.xlabel(\"Classes\")\n",
    "        ax = plt.xticks(ticks=[0,1,2,3,4,5],labels=[x.title() for x in class_names], size=10)\n",
    "        return plt.show(fig_bar)\n",
    "    elif graph_type == \"pie\":\n",
    "        fig_pie, ax = plt.subplots(figsize=(15,10),subplot_kw=dict(aspect=\"equal\"))\n",
    "        color_coder=dict(enumerate(model.predict(image_cc)[0],0))\n",
    "        recipe = color_coder\n",
    "        data = color_coder.values()\n",
    "        wedges, texts = plt.pie(color_coder.values(), wedgeprops=dict(width=0.5), startangle=-40)\n",
    "        bbox_props = dict(boxstyle=\"square,pad=0.3\", fc=\"w\", ec=\"k\", lw=0.72)\n",
    "        kw = dict(arrowprops=dict(arrowstyle=\"-\"), bbox=bbox_props, zorder=0, va=\"center\")\n",
    "\n",
    "        ax.legend(wedges, [x.title() for x in class_names], title=\"Classes\")\n",
    "        for i, p in enumerate(wedges):\n",
    "            ang = (p.theta2 - p.theta1)/2. + p.theta1\n",
    "            y = np.sin(np.deg2rad(ang))\n",
    "            x = np.cos(np.deg2rad(ang))\n",
    "            horizontalalignment = {-1: \"right\", 1: \"left\"}[int(np.sign(x))]\n",
    "            connectionstyle = \"angle,angleA=0,angleB={}\".format(ang)\n",
    "            kw[\"arrowprops\"].update({\"connectionstyle\": connectionstyle})\n",
    "            ax.annotate(round(color_coder[i],2), xy=(x, y), xytext=(1.35*np.sign(x), 1.4*y),\n",
    "                        horizontalalignment=horizontalalignment, **kw)\n",
    "        ax.set_title(\"Model's Confidence as a Pie Chart\")\n",
    "        return plt.show(fig_pie)"
   ]
  },
  {
   "cell_type": "code",
   "execution_count": 32,
   "id": "92ade3ab-5d52-42df-8882-5c06a88ec985",
   "metadata": {
    "execution": {
     "iopub.execute_input": "2021-08-11T20:28:44.997030Z",
     "iopub.status.busy": "2021-08-11T20:28:44.997030Z",
     "iopub.status.idle": "2021-08-11T20:28:45.766368Z",
     "shell.execute_reply": "2021-08-11T20:28:45.766368Z",
     "shell.execute_reply.started": "2021-08-11T20:28:44.997030Z"
    },
    "tags": []
   },
   "outputs": [
    {
     "data": {
      "image/png": "[encoded data removed]",
      "text/plain": [
       "<Figure size 1080x720 with 1 Axes>"
      ]
     },
     "metadata": {
      "needs_background": "light"
     },
     "output_type": "display_data"
    }
   ],
   "source": [
    "pick_a_graph(model, image_cc)"
   ]
  },
  {
   "cell_type": "code",
   "execution_count": null,
   "id": "9e2dba95-6183-4eed-93cd-c9b32a06e8a3",
   "metadata": {},
   "outputs": [],
   "source": [
    "from lime import lime_image\n",
    "from skimage.segmentation import mark_boundaries"
   ]
  },
  {
   "cell_type": "code",
   "execution_count": null,
   "id": "fdba68cf-2599-453e-b13e-c33e940721fd",
   "metadata": {
    "tags": []
   },
   "outputs": [],
   "source": [
    "def image_expl(model,image_array):\n",
    "    '''\n",
    "    Takes a model, single image array, name string of the model, and the true label of the image.\n",
    "    Uses LIME to get an image explainer and plots the image and explaination.\n",
    "    '''\n",
    "    \n",
    "    fig, ax = plt.subplots()\n",
    "    #instantiate explainer\n",
    "    explainer = lime_image.LimeImageExplainer(random_state=1)\n",
    "    #explain an image caste to double bc updated keras version, pass predictor \n",
    "    explanation = explainer.explain_instance(image_array[0].astype('double'), model.predict)\n",
    "    #show the image\n",
    "    ax = plt.imshow(image_array[0])\n",
    "    #get the mask for the prediction\n",
    "    temp, mask = explanation.get_image_and_mask(model.predict(image_array.reshape((1,75,75,3))).argmax(axis=1)[0], positive_only=False, hide_rest=False)\n",
    "    #show image and mask together\n",
    "    ax = plt.imshow(mark_boundaries(temp, mask))\n",
    "    plt.axis(\"off\")\n",
    "    \n",
    "    ax = plt.title(\"It works!\")"
   ]
  },
  {
   "cell_type": "code",
   "execution_count": null,
   "id": "9bebd2a6-80a9-4b0e-bd5f-819a2036bfc7",
   "metadata": {
    "tags": []
   },
   "outputs": [],
   "source": [
    "image_expl(model, image_cc)"
   ]
  },
  {
   "cell_type": "code",
   "execution_count": null,
   "id": "cfe05410-e2b6-4ab2-b5aa-071c8c9798bb",
   "metadata": {},
   "outputs": [],
   "source": []
  }
 ],
 "metadata": {
  "kernelspec": {
   "display_name": "learn-env",
   "language": "python",
   "name": "learn-env"
  },
  "language_info": {
   "codemirror_mode": {
    "name": "ipython",
    "version": 3
   },
   "file_extension": ".py",
   "mimetype": "text/x-python",
   "name": "python",
   "nbconvert_exporter": "python",
   "pygments_lexer": "ipython3",
   "version": "3.8.5"
  }
 },
 "nbformat": 4,
 "nbformat_minor": 5
}
